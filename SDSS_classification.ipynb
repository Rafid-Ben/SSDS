{
 "cells": [
  {
   "cell_type": "code",
   "execution_count": 3,
   "id": "82410ae3",
   "metadata": {},
   "outputs": [],
   "source": [
    "import numpy as np\n",
    "import pandas as pd\n",
    "import matplotlib.pyplot as plt\n",
    "import seaborn as sns\n",
    "import time\n",
    "from astropy.coordinates import SkyCoord\n",
    "import astropy.units as u"
   ]
  },
  {
   "cell_type": "code",
   "execution_count": 4,
   "id": "2d79a955",
   "metadata": {},
   "outputs": [
    {
     "data": {
      "text/html": [
       "<div>\n",
       "<style scoped>\n",
       "    .dataframe tbody tr th:only-of-type {\n",
       "        vertical-align: middle;\n",
       "    }\n",
       "\n",
       "    .dataframe tbody tr th {\n",
       "        vertical-align: top;\n",
       "    }\n",
       "\n",
       "    .dataframe thead th {\n",
       "        text-align: right;\n",
       "    }\n",
       "</style>\n",
       "<table border=\"1\" class=\"dataframe\">\n",
       "  <thead>\n",
       "    <tr style=\"text-align: right;\">\n",
       "      <th></th>\n",
       "      <th>obj_ID</th>\n",
       "      <th>alpha</th>\n",
       "      <th>delta</th>\n",
       "      <th>u</th>\n",
       "      <th>g</th>\n",
       "      <th>r</th>\n",
       "      <th>i</th>\n",
       "      <th>z</th>\n",
       "      <th>run_ID</th>\n",
       "      <th>rerun_ID</th>\n",
       "      <th>cam_col</th>\n",
       "      <th>field_ID</th>\n",
       "      <th>spec_obj_ID</th>\n",
       "      <th>class</th>\n",
       "      <th>redshift</th>\n",
       "      <th>plate</th>\n",
       "      <th>MJD</th>\n",
       "      <th>fiber_ID</th>\n",
       "    </tr>\n",
       "  </thead>\n",
       "  <tbody>\n",
       "    <tr>\n",
       "      <th>0</th>\n",
       "      <td>1.237661e+18</td>\n",
       "      <td>135.689107</td>\n",
       "      <td>32.494632</td>\n",
       "      <td>23.87882</td>\n",
       "      <td>22.27530</td>\n",
       "      <td>20.39501</td>\n",
       "      <td>19.16573</td>\n",
       "      <td>18.79371</td>\n",
       "      <td>3606</td>\n",
       "      <td>301</td>\n",
       "      <td>2</td>\n",
       "      <td>79</td>\n",
       "      <td>6.543777e+18</td>\n",
       "      <td>GALAXY</td>\n",
       "      <td>0.634794</td>\n",
       "      <td>5812</td>\n",
       "      <td>56354</td>\n",
       "      <td>171</td>\n",
       "    </tr>\n",
       "    <tr>\n",
       "      <th>1</th>\n",
       "      <td>1.237665e+18</td>\n",
       "      <td>144.826101</td>\n",
       "      <td>31.274185</td>\n",
       "      <td>24.77759</td>\n",
       "      <td>22.83188</td>\n",
       "      <td>22.58444</td>\n",
       "      <td>21.16812</td>\n",
       "      <td>21.61427</td>\n",
       "      <td>4518</td>\n",
       "      <td>301</td>\n",
       "      <td>5</td>\n",
       "      <td>119</td>\n",
       "      <td>1.176014e+19</td>\n",
       "      <td>GALAXY</td>\n",
       "      <td>0.779136</td>\n",
       "      <td>10445</td>\n",
       "      <td>58158</td>\n",
       "      <td>427</td>\n",
       "    </tr>\n",
       "    <tr>\n",
       "      <th>2</th>\n",
       "      <td>1.237661e+18</td>\n",
       "      <td>142.188790</td>\n",
       "      <td>35.582444</td>\n",
       "      <td>25.26307</td>\n",
       "      <td>22.66389</td>\n",
       "      <td>20.60976</td>\n",
       "      <td>19.34857</td>\n",
       "      <td>18.94827</td>\n",
       "      <td>3606</td>\n",
       "      <td>301</td>\n",
       "      <td>2</td>\n",
       "      <td>120</td>\n",
       "      <td>5.152200e+18</td>\n",
       "      <td>GALAXY</td>\n",
       "      <td>0.644195</td>\n",
       "      <td>4576</td>\n",
       "      <td>55592</td>\n",
       "      <td>299</td>\n",
       "    </tr>\n",
       "    <tr>\n",
       "      <th>3</th>\n",
       "      <td>1.237663e+18</td>\n",
       "      <td>338.741038</td>\n",
       "      <td>-0.402828</td>\n",
       "      <td>22.13682</td>\n",
       "      <td>23.77656</td>\n",
       "      <td>21.61162</td>\n",
       "      <td>20.50454</td>\n",
       "      <td>19.25010</td>\n",
       "      <td>4192</td>\n",
       "      <td>301</td>\n",
       "      <td>3</td>\n",
       "      <td>214</td>\n",
       "      <td>1.030107e+19</td>\n",
       "      <td>GALAXY</td>\n",
       "      <td>0.932346</td>\n",
       "      <td>9149</td>\n",
       "      <td>58039</td>\n",
       "      <td>775</td>\n",
       "    </tr>\n",
       "    <tr>\n",
       "      <th>4</th>\n",
       "      <td>1.237680e+18</td>\n",
       "      <td>345.282593</td>\n",
       "      <td>21.183866</td>\n",
       "      <td>19.43718</td>\n",
       "      <td>17.58028</td>\n",
       "      <td>16.49747</td>\n",
       "      <td>15.97711</td>\n",
       "      <td>15.54461</td>\n",
       "      <td>8102</td>\n",
       "      <td>301</td>\n",
       "      <td>3</td>\n",
       "      <td>137</td>\n",
       "      <td>6.891865e+18</td>\n",
       "      <td>GALAXY</td>\n",
       "      <td>0.116123</td>\n",
       "      <td>6121</td>\n",
       "      <td>56187</td>\n",
       "      <td>842</td>\n",
       "    </tr>\n",
       "    <tr>\n",
       "      <th>...</th>\n",
       "      <td>...</td>\n",
       "      <td>...</td>\n",
       "      <td>...</td>\n",
       "      <td>...</td>\n",
       "      <td>...</td>\n",
       "      <td>...</td>\n",
       "      <td>...</td>\n",
       "      <td>...</td>\n",
       "      <td>...</td>\n",
       "      <td>...</td>\n",
       "      <td>...</td>\n",
       "      <td>...</td>\n",
       "      <td>...</td>\n",
       "      <td>...</td>\n",
       "      <td>...</td>\n",
       "      <td>...</td>\n",
       "      <td>...</td>\n",
       "      <td>...</td>\n",
       "    </tr>\n",
       "    <tr>\n",
       "      <th>99995</th>\n",
       "      <td>1.237679e+18</td>\n",
       "      <td>39.620709</td>\n",
       "      <td>-2.594074</td>\n",
       "      <td>22.16759</td>\n",
       "      <td>22.97586</td>\n",
       "      <td>21.90404</td>\n",
       "      <td>21.30548</td>\n",
       "      <td>20.73569</td>\n",
       "      <td>7778</td>\n",
       "      <td>301</td>\n",
       "      <td>2</td>\n",
       "      <td>581</td>\n",
       "      <td>1.055431e+19</td>\n",
       "      <td>GALAXY</td>\n",
       "      <td>0.000000</td>\n",
       "      <td>9374</td>\n",
       "      <td>57749</td>\n",
       "      <td>438</td>\n",
       "    </tr>\n",
       "    <tr>\n",
       "      <th>99996</th>\n",
       "      <td>1.237679e+18</td>\n",
       "      <td>29.493819</td>\n",
       "      <td>19.798874</td>\n",
       "      <td>22.69118</td>\n",
       "      <td>22.38628</td>\n",
       "      <td>20.45003</td>\n",
       "      <td>19.75759</td>\n",
       "      <td>19.41526</td>\n",
       "      <td>7917</td>\n",
       "      <td>301</td>\n",
       "      <td>1</td>\n",
       "      <td>289</td>\n",
       "      <td>8.586351e+18</td>\n",
       "      <td>GALAXY</td>\n",
       "      <td>0.404895</td>\n",
       "      <td>7626</td>\n",
       "      <td>56934</td>\n",
       "      <td>866</td>\n",
       "    </tr>\n",
       "    <tr>\n",
       "      <th>99997</th>\n",
       "      <td>1.237668e+18</td>\n",
       "      <td>224.587407</td>\n",
       "      <td>15.700707</td>\n",
       "      <td>21.16916</td>\n",
       "      <td>19.26997</td>\n",
       "      <td>18.20428</td>\n",
       "      <td>17.69034</td>\n",
       "      <td>17.35221</td>\n",
       "      <td>5314</td>\n",
       "      <td>301</td>\n",
       "      <td>4</td>\n",
       "      <td>308</td>\n",
       "      <td>3.112008e+18</td>\n",
       "      <td>GALAXY</td>\n",
       "      <td>0.143366</td>\n",
       "      <td>2764</td>\n",
       "      <td>54535</td>\n",
       "      <td>74</td>\n",
       "    </tr>\n",
       "    <tr>\n",
       "      <th>99998</th>\n",
       "      <td>1.237661e+18</td>\n",
       "      <td>212.268621</td>\n",
       "      <td>46.660365</td>\n",
       "      <td>25.35039</td>\n",
       "      <td>21.63757</td>\n",
       "      <td>19.91386</td>\n",
       "      <td>19.07254</td>\n",
       "      <td>18.62482</td>\n",
       "      <td>3650</td>\n",
       "      <td>301</td>\n",
       "      <td>4</td>\n",
       "      <td>131</td>\n",
       "      <td>7.601080e+18</td>\n",
       "      <td>GALAXY</td>\n",
       "      <td>0.455040</td>\n",
       "      <td>6751</td>\n",
       "      <td>56368</td>\n",
       "      <td>470</td>\n",
       "    </tr>\n",
       "    <tr>\n",
       "      <th>99999</th>\n",
       "      <td>1.237661e+18</td>\n",
       "      <td>196.896053</td>\n",
       "      <td>49.464643</td>\n",
       "      <td>22.62171</td>\n",
       "      <td>21.79745</td>\n",
       "      <td>20.60115</td>\n",
       "      <td>20.00959</td>\n",
       "      <td>19.28075</td>\n",
       "      <td>3650</td>\n",
       "      <td>301</td>\n",
       "      <td>4</td>\n",
       "      <td>60</td>\n",
       "      <td>8.343152e+18</td>\n",
       "      <td>GALAXY</td>\n",
       "      <td>0.542944</td>\n",
       "      <td>7410</td>\n",
       "      <td>57104</td>\n",
       "      <td>851</td>\n",
       "    </tr>\n",
       "  </tbody>\n",
       "</table>\n",
       "<p>100000 rows × 18 columns</p>\n",
       "</div>"
      ],
      "text/plain": [
       "             obj_ID       alpha      delta         u         g         r  \\\n",
       "0      1.237661e+18  135.689107  32.494632  23.87882  22.27530  20.39501   \n",
       "1      1.237665e+18  144.826101  31.274185  24.77759  22.83188  22.58444   \n",
       "2      1.237661e+18  142.188790  35.582444  25.26307  22.66389  20.60976   \n",
       "3      1.237663e+18  338.741038  -0.402828  22.13682  23.77656  21.61162   \n",
       "4      1.237680e+18  345.282593  21.183866  19.43718  17.58028  16.49747   \n",
       "...             ...         ...        ...       ...       ...       ...   \n",
       "99995  1.237679e+18   39.620709  -2.594074  22.16759  22.97586  21.90404   \n",
       "99996  1.237679e+18   29.493819  19.798874  22.69118  22.38628  20.45003   \n",
       "99997  1.237668e+18  224.587407  15.700707  21.16916  19.26997  18.20428   \n",
       "99998  1.237661e+18  212.268621  46.660365  25.35039  21.63757  19.91386   \n",
       "99999  1.237661e+18  196.896053  49.464643  22.62171  21.79745  20.60115   \n",
       "\n",
       "              i         z  run_ID  rerun_ID  cam_col  field_ID   spec_obj_ID  \\\n",
       "0      19.16573  18.79371    3606       301        2        79  6.543777e+18   \n",
       "1      21.16812  21.61427    4518       301        5       119  1.176014e+19   \n",
       "2      19.34857  18.94827    3606       301        2       120  5.152200e+18   \n",
       "3      20.50454  19.25010    4192       301        3       214  1.030107e+19   \n",
       "4      15.97711  15.54461    8102       301        3       137  6.891865e+18   \n",
       "...         ...       ...     ...       ...      ...       ...           ...   \n",
       "99995  21.30548  20.73569    7778       301        2       581  1.055431e+19   \n",
       "99996  19.75759  19.41526    7917       301        1       289  8.586351e+18   \n",
       "99997  17.69034  17.35221    5314       301        4       308  3.112008e+18   \n",
       "99998  19.07254  18.62482    3650       301        4       131  7.601080e+18   \n",
       "99999  20.00959  19.28075    3650       301        4        60  8.343152e+18   \n",
       "\n",
       "        class  redshift  plate    MJD  fiber_ID  \n",
       "0      GALAXY  0.634794   5812  56354       171  \n",
       "1      GALAXY  0.779136  10445  58158       427  \n",
       "2      GALAXY  0.644195   4576  55592       299  \n",
       "3      GALAXY  0.932346   9149  58039       775  \n",
       "4      GALAXY  0.116123   6121  56187       842  \n",
       "...       ...       ...    ...    ...       ...  \n",
       "99995  GALAXY  0.000000   9374  57749       438  \n",
       "99996  GALAXY  0.404895   7626  56934       866  \n",
       "99997  GALAXY  0.143366   2764  54535        74  \n",
       "99998  GALAXY  0.455040   6751  56368       470  \n",
       "99999  GALAXY  0.542944   7410  57104       851  \n",
       "\n",
       "[100000 rows x 18 columns]"
      ]
     },
     "execution_count": 4,
     "metadata": {},
     "output_type": "execute_result"
    }
   ],
   "source": [
    "df= pd.read_csv(\"star_classification.csv\")\n",
    "df"
   ]
  },
  {
   "cell_type": "code",
   "execution_count": 5,
   "id": "09f7f6bc",
   "metadata": {},
   "outputs": [
    {
     "data": {
      "text/html": [
       "<div>\n",
       "<style scoped>\n",
       "    .dataframe tbody tr th:only-of-type {\n",
       "        vertical-align: middle;\n",
       "    }\n",
       "\n",
       "    .dataframe tbody tr th {\n",
       "        vertical-align: top;\n",
       "    }\n",
       "\n",
       "    .dataframe thead th {\n",
       "        text-align: right;\n",
       "    }\n",
       "</style>\n",
       "<table border=\"1\" class=\"dataframe\">\n",
       "  <thead>\n",
       "    <tr style=\"text-align: right;\">\n",
       "      <th></th>\n",
       "      <th>obj_ID</th>\n",
       "      <th>alpha</th>\n",
       "      <th>delta</th>\n",
       "      <th>u</th>\n",
       "      <th>g</th>\n",
       "      <th>r</th>\n",
       "      <th>i</th>\n",
       "      <th>z</th>\n",
       "      <th>run_ID</th>\n",
       "      <th>rerun_ID</th>\n",
       "      <th>cam_col</th>\n",
       "      <th>field_ID</th>\n",
       "      <th>spec_obj_ID</th>\n",
       "      <th>fiber_ID</th>\n",
       "      <th>redshift</th>\n",
       "      <th>plate</th>\n",
       "      <th>MJD</th>\n",
       "      <th>class</th>\n",
       "    </tr>\n",
       "  </thead>\n",
       "  <tbody>\n",
       "    <tr>\n",
       "      <th>0</th>\n",
       "      <td>1.237661e+18</td>\n",
       "      <td>135.689107</td>\n",
       "      <td>32.494632</td>\n",
       "      <td>23.87882</td>\n",
       "      <td>22.27530</td>\n",
       "      <td>20.39501</td>\n",
       "      <td>19.16573</td>\n",
       "      <td>18.79371</td>\n",
       "      <td>3606</td>\n",
       "      <td>301</td>\n",
       "      <td>2</td>\n",
       "      <td>79</td>\n",
       "      <td>6.543777e+18</td>\n",
       "      <td>171</td>\n",
       "      <td>0.634794</td>\n",
       "      <td>5812</td>\n",
       "      <td>56354</td>\n",
       "      <td>GALAXY</td>\n",
       "    </tr>\n",
       "    <tr>\n",
       "      <th>1</th>\n",
       "      <td>1.237665e+18</td>\n",
       "      <td>144.826101</td>\n",
       "      <td>31.274185</td>\n",
       "      <td>24.77759</td>\n",
       "      <td>22.83188</td>\n",
       "      <td>22.58444</td>\n",
       "      <td>21.16812</td>\n",
       "      <td>21.61427</td>\n",
       "      <td>4518</td>\n",
       "      <td>301</td>\n",
       "      <td>5</td>\n",
       "      <td>119</td>\n",
       "      <td>1.176014e+19</td>\n",
       "      <td>427</td>\n",
       "      <td>0.779136</td>\n",
       "      <td>10445</td>\n",
       "      <td>58158</td>\n",
       "      <td>GALAXY</td>\n",
       "    </tr>\n",
       "    <tr>\n",
       "      <th>2</th>\n",
       "      <td>1.237661e+18</td>\n",
       "      <td>142.188790</td>\n",
       "      <td>35.582444</td>\n",
       "      <td>25.26307</td>\n",
       "      <td>22.66389</td>\n",
       "      <td>20.60976</td>\n",
       "      <td>19.34857</td>\n",
       "      <td>18.94827</td>\n",
       "      <td>3606</td>\n",
       "      <td>301</td>\n",
       "      <td>2</td>\n",
       "      <td>120</td>\n",
       "      <td>5.152200e+18</td>\n",
       "      <td>299</td>\n",
       "      <td>0.644195</td>\n",
       "      <td>4576</td>\n",
       "      <td>55592</td>\n",
       "      <td>GALAXY</td>\n",
       "    </tr>\n",
       "    <tr>\n",
       "      <th>3</th>\n",
       "      <td>1.237663e+18</td>\n",
       "      <td>338.741038</td>\n",
       "      <td>-0.402828</td>\n",
       "      <td>22.13682</td>\n",
       "      <td>23.77656</td>\n",
       "      <td>21.61162</td>\n",
       "      <td>20.50454</td>\n",
       "      <td>19.25010</td>\n",
       "      <td>4192</td>\n",
       "      <td>301</td>\n",
       "      <td>3</td>\n",
       "      <td>214</td>\n",
       "      <td>1.030107e+19</td>\n",
       "      <td>775</td>\n",
       "      <td>0.932346</td>\n",
       "      <td>9149</td>\n",
       "      <td>58039</td>\n",
       "      <td>GALAXY</td>\n",
       "    </tr>\n",
       "    <tr>\n",
       "      <th>4</th>\n",
       "      <td>1.237680e+18</td>\n",
       "      <td>345.282593</td>\n",
       "      <td>21.183866</td>\n",
       "      <td>19.43718</td>\n",
       "      <td>17.58028</td>\n",
       "      <td>16.49747</td>\n",
       "      <td>15.97711</td>\n",
       "      <td>15.54461</td>\n",
       "      <td>8102</td>\n",
       "      <td>301</td>\n",
       "      <td>3</td>\n",
       "      <td>137</td>\n",
       "      <td>6.891865e+18</td>\n",
       "      <td>842</td>\n",
       "      <td>0.116123</td>\n",
       "      <td>6121</td>\n",
       "      <td>56187</td>\n",
       "      <td>GALAXY</td>\n",
       "    </tr>\n",
       "    <tr>\n",
       "      <th>...</th>\n",
       "      <td>...</td>\n",
       "      <td>...</td>\n",
       "      <td>...</td>\n",
       "      <td>...</td>\n",
       "      <td>...</td>\n",
       "      <td>...</td>\n",
       "      <td>...</td>\n",
       "      <td>...</td>\n",
       "      <td>...</td>\n",
       "      <td>...</td>\n",
       "      <td>...</td>\n",
       "      <td>...</td>\n",
       "      <td>...</td>\n",
       "      <td>...</td>\n",
       "      <td>...</td>\n",
       "      <td>...</td>\n",
       "      <td>...</td>\n",
       "      <td>...</td>\n",
       "    </tr>\n",
       "    <tr>\n",
       "      <th>99995</th>\n",
       "      <td>1.237679e+18</td>\n",
       "      <td>39.620709</td>\n",
       "      <td>-2.594074</td>\n",
       "      <td>22.16759</td>\n",
       "      <td>22.97586</td>\n",
       "      <td>21.90404</td>\n",
       "      <td>21.30548</td>\n",
       "      <td>20.73569</td>\n",
       "      <td>7778</td>\n",
       "      <td>301</td>\n",
       "      <td>2</td>\n",
       "      <td>581</td>\n",
       "      <td>1.055431e+19</td>\n",
       "      <td>438</td>\n",
       "      <td>0.000000</td>\n",
       "      <td>9374</td>\n",
       "      <td>57749</td>\n",
       "      <td>GALAXY</td>\n",
       "    </tr>\n",
       "    <tr>\n",
       "      <th>99996</th>\n",
       "      <td>1.237679e+18</td>\n",
       "      <td>29.493819</td>\n",
       "      <td>19.798874</td>\n",
       "      <td>22.69118</td>\n",
       "      <td>22.38628</td>\n",
       "      <td>20.45003</td>\n",
       "      <td>19.75759</td>\n",
       "      <td>19.41526</td>\n",
       "      <td>7917</td>\n",
       "      <td>301</td>\n",
       "      <td>1</td>\n",
       "      <td>289</td>\n",
       "      <td>8.586351e+18</td>\n",
       "      <td>866</td>\n",
       "      <td>0.404895</td>\n",
       "      <td>7626</td>\n",
       "      <td>56934</td>\n",
       "      <td>GALAXY</td>\n",
       "    </tr>\n",
       "    <tr>\n",
       "      <th>99997</th>\n",
       "      <td>1.237668e+18</td>\n",
       "      <td>224.587407</td>\n",
       "      <td>15.700707</td>\n",
       "      <td>21.16916</td>\n",
       "      <td>19.26997</td>\n",
       "      <td>18.20428</td>\n",
       "      <td>17.69034</td>\n",
       "      <td>17.35221</td>\n",
       "      <td>5314</td>\n",
       "      <td>301</td>\n",
       "      <td>4</td>\n",
       "      <td>308</td>\n",
       "      <td>3.112008e+18</td>\n",
       "      <td>74</td>\n",
       "      <td>0.143366</td>\n",
       "      <td>2764</td>\n",
       "      <td>54535</td>\n",
       "      <td>GALAXY</td>\n",
       "    </tr>\n",
       "    <tr>\n",
       "      <th>99998</th>\n",
       "      <td>1.237661e+18</td>\n",
       "      <td>212.268621</td>\n",
       "      <td>46.660365</td>\n",
       "      <td>25.35039</td>\n",
       "      <td>21.63757</td>\n",
       "      <td>19.91386</td>\n",
       "      <td>19.07254</td>\n",
       "      <td>18.62482</td>\n",
       "      <td>3650</td>\n",
       "      <td>301</td>\n",
       "      <td>4</td>\n",
       "      <td>131</td>\n",
       "      <td>7.601080e+18</td>\n",
       "      <td>470</td>\n",
       "      <td>0.455040</td>\n",
       "      <td>6751</td>\n",
       "      <td>56368</td>\n",
       "      <td>GALAXY</td>\n",
       "    </tr>\n",
       "    <tr>\n",
       "      <th>99999</th>\n",
       "      <td>1.237661e+18</td>\n",
       "      <td>196.896053</td>\n",
       "      <td>49.464643</td>\n",
       "      <td>22.62171</td>\n",
       "      <td>21.79745</td>\n",
       "      <td>20.60115</td>\n",
       "      <td>20.00959</td>\n",
       "      <td>19.28075</td>\n",
       "      <td>3650</td>\n",
       "      <td>301</td>\n",
       "      <td>4</td>\n",
       "      <td>60</td>\n",
       "      <td>8.343152e+18</td>\n",
       "      <td>851</td>\n",
       "      <td>0.542944</td>\n",
       "      <td>7410</td>\n",
       "      <td>57104</td>\n",
       "      <td>GALAXY</td>\n",
       "    </tr>\n",
       "  </tbody>\n",
       "</table>\n",
       "<p>100000 rows × 18 columns</p>\n",
       "</div>"
      ],
      "text/plain": [
       "             obj_ID       alpha      delta         u         g         r  \\\n",
       "0      1.237661e+18  135.689107  32.494632  23.87882  22.27530  20.39501   \n",
       "1      1.237665e+18  144.826101  31.274185  24.77759  22.83188  22.58444   \n",
       "2      1.237661e+18  142.188790  35.582444  25.26307  22.66389  20.60976   \n",
       "3      1.237663e+18  338.741038  -0.402828  22.13682  23.77656  21.61162   \n",
       "4      1.237680e+18  345.282593  21.183866  19.43718  17.58028  16.49747   \n",
       "...             ...         ...        ...       ...       ...       ...   \n",
       "99995  1.237679e+18   39.620709  -2.594074  22.16759  22.97586  21.90404   \n",
       "99996  1.237679e+18   29.493819  19.798874  22.69118  22.38628  20.45003   \n",
       "99997  1.237668e+18  224.587407  15.700707  21.16916  19.26997  18.20428   \n",
       "99998  1.237661e+18  212.268621  46.660365  25.35039  21.63757  19.91386   \n",
       "99999  1.237661e+18  196.896053  49.464643  22.62171  21.79745  20.60115   \n",
       "\n",
       "              i         z  run_ID  rerun_ID  cam_col  field_ID   spec_obj_ID  \\\n",
       "0      19.16573  18.79371    3606       301        2        79  6.543777e+18   \n",
       "1      21.16812  21.61427    4518       301        5       119  1.176014e+19   \n",
       "2      19.34857  18.94827    3606       301        2       120  5.152200e+18   \n",
       "3      20.50454  19.25010    4192       301        3       214  1.030107e+19   \n",
       "4      15.97711  15.54461    8102       301        3       137  6.891865e+18   \n",
       "...         ...       ...     ...       ...      ...       ...           ...   \n",
       "99995  21.30548  20.73569    7778       301        2       581  1.055431e+19   \n",
       "99996  19.75759  19.41526    7917       301        1       289  8.586351e+18   \n",
       "99997  17.69034  17.35221    5314       301        4       308  3.112008e+18   \n",
       "99998  19.07254  18.62482    3650       301        4       131  7.601080e+18   \n",
       "99999  20.00959  19.28075    3650       301        4        60  8.343152e+18   \n",
       "\n",
       "       fiber_ID  redshift  plate    MJD   class  \n",
       "0           171  0.634794   5812  56354  GALAXY  \n",
       "1           427  0.779136  10445  58158  GALAXY  \n",
       "2           299  0.644195   4576  55592  GALAXY  \n",
       "3           775  0.932346   9149  58039  GALAXY  \n",
       "4           842  0.116123   6121  56187  GALAXY  \n",
       "...         ...       ...    ...    ...     ...  \n",
       "99995       438  0.000000   9374  57749  GALAXY  \n",
       "99996       866  0.404895   7626  56934  GALAXY  \n",
       "99997        74  0.143366   2764  54535  GALAXY  \n",
       "99998       470  0.455040   6751  56368  GALAXY  \n",
       "99999       851  0.542944   7410  57104  GALAXY  \n",
       "\n",
       "[100000 rows x 18 columns]"
      ]
     },
     "execution_count": 5,
     "metadata": {},
     "output_type": "execute_result"
    }
   ],
   "source": [
    "cols = df.columns.tolist()\n",
    "store_col=cols[-1]\n",
    "cols[-1]=cols[13]\n",
    "cols[13]=store_col\n",
    "df = df[cols].copy(deep=True)\n",
    "df"
   ]
  },
  {
   "cell_type": "code",
   "execution_count": 6,
   "id": "b6f87adb",
   "metadata": {
    "scrolled": true
   },
   "outputs": [
    {
     "data": {
      "text/html": [
       "<div>\n",
       "<style scoped>\n",
       "    .dataframe tbody tr th:only-of-type {\n",
       "        vertical-align: middle;\n",
       "    }\n",
       "\n",
       "    .dataframe tbody tr th {\n",
       "        vertical-align: top;\n",
       "    }\n",
       "\n",
       "    .dataframe thead th {\n",
       "        text-align: right;\n",
       "    }\n",
       "</style>\n",
       "<table border=\"1\" class=\"dataframe\">\n",
       "  <thead>\n",
       "    <tr style=\"text-align: right;\">\n",
       "      <th></th>\n",
       "      <th>count</th>\n",
       "      <th>mean</th>\n",
       "      <th>std</th>\n",
       "      <th>min</th>\n",
       "      <th>25%</th>\n",
       "      <th>50%</th>\n",
       "      <th>75%</th>\n",
       "      <th>max</th>\n",
       "    </tr>\n",
       "  </thead>\n",
       "  <tbody>\n",
       "    <tr>\n",
       "      <th>obj_ID</th>\n",
       "      <td>100000.0</td>\n",
       "      <td>1.237665e+18</td>\n",
       "      <td>8.438560e+12</td>\n",
       "      <td>1.237646e+18</td>\n",
       "      <td>1.237659e+18</td>\n",
       "      <td>1.237663e+18</td>\n",
       "      <td>1.237668e+18</td>\n",
       "      <td>1.237681e+18</td>\n",
       "    </tr>\n",
       "    <tr>\n",
       "      <th>alpha</th>\n",
       "      <td>100000.0</td>\n",
       "      <td>1.776291e+02</td>\n",
       "      <td>9.650224e+01</td>\n",
       "      <td>5.527828e-03</td>\n",
       "      <td>1.275182e+02</td>\n",
       "      <td>1.809007e+02</td>\n",
       "      <td>2.338950e+02</td>\n",
       "      <td>3.599998e+02</td>\n",
       "    </tr>\n",
       "    <tr>\n",
       "      <th>delta</th>\n",
       "      <td>100000.0</td>\n",
       "      <td>2.413530e+01</td>\n",
       "      <td>1.964467e+01</td>\n",
       "      <td>-1.878533e+01</td>\n",
       "      <td>5.146771e+00</td>\n",
       "      <td>2.364592e+01</td>\n",
       "      <td>3.990155e+01</td>\n",
       "      <td>8.300052e+01</td>\n",
       "    </tr>\n",
       "    <tr>\n",
       "      <th>u</th>\n",
       "      <td>100000.0</td>\n",
       "      <td>2.198047e+01</td>\n",
       "      <td>3.176929e+01</td>\n",
       "      <td>-9.999000e+03</td>\n",
       "      <td>2.035235e+01</td>\n",
       "      <td>2.217914e+01</td>\n",
       "      <td>2.368744e+01</td>\n",
       "      <td>3.278139e+01</td>\n",
       "    </tr>\n",
       "    <tr>\n",
       "      <th>g</th>\n",
       "      <td>100000.0</td>\n",
       "      <td>2.053139e+01</td>\n",
       "      <td>3.175029e+01</td>\n",
       "      <td>-9.999000e+03</td>\n",
       "      <td>1.896523e+01</td>\n",
       "      <td>2.109983e+01</td>\n",
       "      <td>2.212377e+01</td>\n",
       "      <td>3.160224e+01</td>\n",
       "    </tr>\n",
       "    <tr>\n",
       "      <th>r</th>\n",
       "      <td>100000.0</td>\n",
       "      <td>1.964576e+01</td>\n",
       "      <td>1.854760e+00</td>\n",
       "      <td>9.822070e+00</td>\n",
       "      <td>1.813583e+01</td>\n",
       "      <td>2.012529e+01</td>\n",
       "      <td>2.104478e+01</td>\n",
       "      <td>2.957186e+01</td>\n",
       "    </tr>\n",
       "    <tr>\n",
       "      <th>i</th>\n",
       "      <td>100000.0</td>\n",
       "      <td>1.908485e+01</td>\n",
       "      <td>1.757895e+00</td>\n",
       "      <td>9.469903e+00</td>\n",
       "      <td>1.773228e+01</td>\n",
       "      <td>1.940514e+01</td>\n",
       "      <td>2.039650e+01</td>\n",
       "      <td>3.214147e+01</td>\n",
       "    </tr>\n",
       "    <tr>\n",
       "      <th>z</th>\n",
       "      <td>100000.0</td>\n",
       "      <td>1.866881e+01</td>\n",
       "      <td>3.172815e+01</td>\n",
       "      <td>-9.999000e+03</td>\n",
       "      <td>1.746068e+01</td>\n",
       "      <td>1.900460e+01</td>\n",
       "      <td>1.992112e+01</td>\n",
       "      <td>2.938374e+01</td>\n",
       "    </tr>\n",
       "    <tr>\n",
       "      <th>run_ID</th>\n",
       "      <td>100000.0</td>\n",
       "      <td>4.481366e+03</td>\n",
       "      <td>1.964765e+03</td>\n",
       "      <td>1.090000e+02</td>\n",
       "      <td>3.187000e+03</td>\n",
       "      <td>4.188000e+03</td>\n",
       "      <td>5.326000e+03</td>\n",
       "      <td>8.162000e+03</td>\n",
       "    </tr>\n",
       "    <tr>\n",
       "      <th>rerun_ID</th>\n",
       "      <td>100000.0</td>\n",
       "      <td>3.010000e+02</td>\n",
       "      <td>0.000000e+00</td>\n",
       "      <td>3.010000e+02</td>\n",
       "      <td>3.010000e+02</td>\n",
       "      <td>3.010000e+02</td>\n",
       "      <td>3.010000e+02</td>\n",
       "      <td>3.010000e+02</td>\n",
       "    </tr>\n",
       "    <tr>\n",
       "      <th>cam_col</th>\n",
       "      <td>100000.0</td>\n",
       "      <td>3.511610e+00</td>\n",
       "      <td>1.586912e+00</td>\n",
       "      <td>1.000000e+00</td>\n",
       "      <td>2.000000e+00</td>\n",
       "      <td>4.000000e+00</td>\n",
       "      <td>5.000000e+00</td>\n",
       "      <td>6.000000e+00</td>\n",
       "    </tr>\n",
       "    <tr>\n",
       "      <th>field_ID</th>\n",
       "      <td>100000.0</td>\n",
       "      <td>1.861305e+02</td>\n",
       "      <td>1.490111e+02</td>\n",
       "      <td>1.100000e+01</td>\n",
       "      <td>8.200000e+01</td>\n",
       "      <td>1.460000e+02</td>\n",
       "      <td>2.410000e+02</td>\n",
       "      <td>9.890000e+02</td>\n",
       "    </tr>\n",
       "    <tr>\n",
       "      <th>spec_obj_ID</th>\n",
       "      <td>100000.0</td>\n",
       "      <td>5.783882e+18</td>\n",
       "      <td>3.324016e+18</td>\n",
       "      <td>2.995191e+17</td>\n",
       "      <td>2.844138e+18</td>\n",
       "      <td>5.614883e+18</td>\n",
       "      <td>8.332144e+18</td>\n",
       "      <td>1.412694e+19</td>\n",
       "    </tr>\n",
       "    <tr>\n",
       "      <th>fiber_ID</th>\n",
       "      <td>100000.0</td>\n",
       "      <td>4.493127e+02</td>\n",
       "      <td>2.724984e+02</td>\n",
       "      <td>1.000000e+00</td>\n",
       "      <td>2.210000e+02</td>\n",
       "      <td>4.330000e+02</td>\n",
       "      <td>6.450000e+02</td>\n",
       "      <td>1.000000e+03</td>\n",
       "    </tr>\n",
       "    <tr>\n",
       "      <th>redshift</th>\n",
       "      <td>100000.0</td>\n",
       "      <td>5.766608e-01</td>\n",
       "      <td>7.307073e-01</td>\n",
       "      <td>-9.970667e-03</td>\n",
       "      <td>5.451684e-02</td>\n",
       "      <td>4.241733e-01</td>\n",
       "      <td>7.041543e-01</td>\n",
       "      <td>7.011245e+00</td>\n",
       "    </tr>\n",
       "    <tr>\n",
       "      <th>plate</th>\n",
       "      <td>100000.0</td>\n",
       "      <td>5.137010e+03</td>\n",
       "      <td>2.952303e+03</td>\n",
       "      <td>2.660000e+02</td>\n",
       "      <td>2.526000e+03</td>\n",
       "      <td>4.987000e+03</td>\n",
       "      <td>7.400250e+03</td>\n",
       "      <td>1.254700e+04</td>\n",
       "    </tr>\n",
       "    <tr>\n",
       "      <th>MJD</th>\n",
       "      <td>100000.0</td>\n",
       "      <td>5.558865e+04</td>\n",
       "      <td>1.808484e+03</td>\n",
       "      <td>5.160800e+04</td>\n",
       "      <td>5.423400e+04</td>\n",
       "      <td>5.586850e+04</td>\n",
       "      <td>5.677700e+04</td>\n",
       "      <td>5.893200e+04</td>\n",
       "    </tr>\n",
       "  </tbody>\n",
       "</table>\n",
       "</div>"
      ],
      "text/plain": [
       "                count          mean           std           min           25%  \\\n",
       "obj_ID       100000.0  1.237665e+18  8.438560e+12  1.237646e+18  1.237659e+18   \n",
       "alpha        100000.0  1.776291e+02  9.650224e+01  5.527828e-03  1.275182e+02   \n",
       "delta        100000.0  2.413530e+01  1.964467e+01 -1.878533e+01  5.146771e+00   \n",
       "u            100000.0  2.198047e+01  3.176929e+01 -9.999000e+03  2.035235e+01   \n",
       "g            100000.0  2.053139e+01  3.175029e+01 -9.999000e+03  1.896523e+01   \n",
       "r            100000.0  1.964576e+01  1.854760e+00  9.822070e+00  1.813583e+01   \n",
       "i            100000.0  1.908485e+01  1.757895e+00  9.469903e+00  1.773228e+01   \n",
       "z            100000.0  1.866881e+01  3.172815e+01 -9.999000e+03  1.746068e+01   \n",
       "run_ID       100000.0  4.481366e+03  1.964765e+03  1.090000e+02  3.187000e+03   \n",
       "rerun_ID     100000.0  3.010000e+02  0.000000e+00  3.010000e+02  3.010000e+02   \n",
       "cam_col      100000.0  3.511610e+00  1.586912e+00  1.000000e+00  2.000000e+00   \n",
       "field_ID     100000.0  1.861305e+02  1.490111e+02  1.100000e+01  8.200000e+01   \n",
       "spec_obj_ID  100000.0  5.783882e+18  3.324016e+18  2.995191e+17  2.844138e+18   \n",
       "fiber_ID     100000.0  4.493127e+02  2.724984e+02  1.000000e+00  2.210000e+02   \n",
       "redshift     100000.0  5.766608e-01  7.307073e-01 -9.970667e-03  5.451684e-02   \n",
       "plate        100000.0  5.137010e+03  2.952303e+03  2.660000e+02  2.526000e+03   \n",
       "MJD          100000.0  5.558865e+04  1.808484e+03  5.160800e+04  5.423400e+04   \n",
       "\n",
       "                      50%           75%           max  \n",
       "obj_ID       1.237663e+18  1.237668e+18  1.237681e+18  \n",
       "alpha        1.809007e+02  2.338950e+02  3.599998e+02  \n",
       "delta        2.364592e+01  3.990155e+01  8.300052e+01  \n",
       "u            2.217914e+01  2.368744e+01  3.278139e+01  \n",
       "g            2.109983e+01  2.212377e+01  3.160224e+01  \n",
       "r            2.012529e+01  2.104478e+01  2.957186e+01  \n",
       "i            1.940514e+01  2.039650e+01  3.214147e+01  \n",
       "z            1.900460e+01  1.992112e+01  2.938374e+01  \n",
       "run_ID       4.188000e+03  5.326000e+03  8.162000e+03  \n",
       "rerun_ID     3.010000e+02  3.010000e+02  3.010000e+02  \n",
       "cam_col      4.000000e+00  5.000000e+00  6.000000e+00  \n",
       "field_ID     1.460000e+02  2.410000e+02  9.890000e+02  \n",
       "spec_obj_ID  5.614883e+18  8.332144e+18  1.412694e+19  \n",
       "fiber_ID     4.330000e+02  6.450000e+02  1.000000e+03  \n",
       "redshift     4.241733e-01  7.041543e-01  7.011245e+00  \n",
       "plate        4.987000e+03  7.400250e+03  1.254700e+04  \n",
       "MJD          5.586850e+04  5.677700e+04  5.893200e+04  "
      ]
     },
     "execution_count": 6,
     "metadata": {},
     "output_type": "execute_result"
    }
   ],
   "source": [
    "df.describe().T"
   ]
  },
  {
   "cell_type": "code",
   "execution_count": 7,
   "id": "3a77878e",
   "metadata": {},
   "outputs": [
    {
     "name": "stdout",
     "output_type": "stream",
     "text": [
      "The classes are: ['GALAXY' 'QSO' 'STAR']\n",
      "Original dataset shape is:\n",
      "GALAXY    59445\n",
      "STAR      21594\n",
      "QSO       18961\n",
      "Name: class, dtype: int64\n"
     ]
    },
    {
     "data": {
      "text/plain": [
       "<AxesSubplot:xlabel='class', ylabel='count'>"
      ]
     },
     "execution_count": 7,
     "metadata": {},
     "output_type": "execute_result"
    },
    {
     "data": {
      "image/png": "[encoded data removed]",
      "text/plain": [
       "<Figure size 864x576 with 1 Axes>"
      ]
     },
     "metadata": {
      "needs_background": "light"
     },
     "output_type": "display_data"
    }
   ],
   "source": [
    "print('The classes are:', df['class'].unique())\n",
    "print('Original dataset shape is:\\n%s' % df.loc[:,'class'].value_counts())\n",
    "plt.figure(figsize=(12,8))\n",
    "sns.countplot(x = df['class'],palette = 'dark')"
   ]
  },
  {
   "cell_type": "markdown",
   "id": "069281e8",
   "metadata": {},
   "source": [
    "Convert the classes from strung to numbers\n",
    "\n",
    "Galaxy = 0\n",
    "\n",
    "Star = 1\n",
    "\n",
    "Quasar =2"
   ]
  },
  {
   "cell_type": "code",
   "execution_count": 6,
   "id": "08eaeb12",
   "metadata": {},
   "outputs": [],
   "source": [
    "df[\"class\"]=[0 if i == \"GALAXY\" else 1 if i == \"STAR\" else 2 for i in df[\"class\"]]"
   ]
  },
  {
   "cell_type": "code",
   "execution_count": 7,
   "id": "4f3a8e2a",
   "metadata": {},
   "outputs": [],
   "source": [
    "galaxy = df[df['class']==0]\n",
    "star = df[df['class']==1]\n",
    "qso = df[df['class']==2]"
   ]
  },
  {
   "cell_type": "markdown",
   "id": "0d801d37",
   "metadata": {},
   "source": [
    "# 1- celestial coordinate representation\n",
    "\n",
    "---\n",
    "\n"
   ]
  },
  {
   "cell_type": "code",
   "execution_count": 9,
   "id": "ed74d0f5",
   "metadata": {},
   "outputs": [],
   "source": [
    "ra1=galaxy['alpha']\n",
    "dec1=galaxy['delta']\n",
    "coords1 = SkyCoord(ra=ra1*u.degree, dec=dec1*u.degree, frame='icrs')\n",
    "\n",
    "ra2=star['alpha']\n",
    "dec2=star['delta']\n",
    "coords2 = SkyCoord(ra=ra2*u.degree, dec=dec2*u.degree, frame='icrs')\n",
    "\n",
    "ra3=qso['alpha']\n",
    "dec3=qso['delta']\n",
    "coords3 = SkyCoord(ra=ra3*u.degree, dec=dec3*u.degree, frame='icrs')"
   ]
  },
  {
   "cell_type": "code",
   "execution_count": 10,
   "id": "0f04ceb2",
   "metadata": {},
   "outputs": [
    {
     "data": {
      "image/png": "[encoded data removed]",
      "text/plain": [
       "<Figure size 720x720 with 1 Axes>"
      ]
     },
     "metadata": {
      "needs_background": "light"
     },
     "output_type": "display_data"
    }
   ],
   "source": [
    "fig = plt.figure(figsize=(10,10))\n",
    "ax = fig.add_subplot(111, projection='mollweide')\n",
    "ax.scatter(coords1.ra.wrap_at(180*u.degree).radian, coords1.dec.radian, s=1,c='r',alpha=0.6,label='Galaxy')\n",
    "ax.scatter(coords2.ra.wrap_at(180*u.degree).radian, coords2.dec.radian,s=1,c='b',alpha=0.6,label='Star')\n",
    "ax.scatter(coords3.ra.wrap_at(180*u.degree).radian, coords3.dec.radian, s=1,c='g',alpha=0.6,label='Quasar')\n",
    "\n",
    "#change the marker size manually for the legend\n",
    "lgnd = plt.legend(loc=\"upper right\", scatterpoints=1, fontsize=10)\n",
    "#lgnd.legend_handles[0]._sizes = [30]\n",
    "#lgnd.legend_handles[1]._sizes = [30]\n",
    "#lgnd.legend_handles[2]._sizes = [30]\n",
    "ax.grid(True)\n",
    "plt.show()"
   ]
  },
  {
   "cell_type": "markdown",
   "id": "d1fb3d4c",
   "metadata": {},
   "source": [
    "Drop Categorical features and coordinates"
   ]
  },
  {
   "cell_type": "code",
   "execution_count": 8,
   "id": "dc7acd1d",
   "metadata": {},
   "outputs": [
    {
     "data": {
      "text/html": [
       "<div>\n",
       "<style scoped>\n",
       "    .dataframe tbody tr th:only-of-type {\n",
       "        vertical-align: middle;\n",
       "    }\n",
       "\n",
       "    .dataframe tbody tr th {\n",
       "        vertical-align: top;\n",
       "    }\n",
       "\n",
       "    .dataframe thead th {\n",
       "        text-align: right;\n",
       "    }\n",
       "</style>\n",
       "<table border=\"1\" class=\"dataframe\">\n",
       "  <thead>\n",
       "    <tr style=\"text-align: right;\">\n",
       "      <th></th>\n",
       "      <th>obj_ID</th>\n",
       "      <th>u</th>\n",
       "      <th>g</th>\n",
       "      <th>r</th>\n",
       "      <th>i</th>\n",
       "      <th>z</th>\n",
       "      <th>redshift</th>\n",
       "      <th>class</th>\n",
       "    </tr>\n",
       "  </thead>\n",
       "  <tbody>\n",
       "    <tr>\n",
       "      <th>122</th>\n",
       "      <td>1.237679e+18</td>\n",
       "      <td>24.70554</td>\n",
       "      <td>22.40585</td>\n",
       "      <td>20.81726</td>\n",
       "      <td>19.85176</td>\n",
       "      <td>19.57173</td>\n",
       "      <td>0.487070</td>\n",
       "      <td>GALAXY</td>\n",
       "    </tr>\n",
       "    <tr>\n",
       "      <th>67641</th>\n",
       "      <td>1.237655e+18</td>\n",
       "      <td>24.71911</td>\n",
       "      <td>20.66083</td>\n",
       "      <td>18.87859</td>\n",
       "      <td>18.17288</td>\n",
       "      <td>17.87914</td>\n",
       "      <td>0.392983</td>\n",
       "      <td>GALAXY</td>\n",
       "    </tr>\n",
       "    <tr>\n",
       "      <th>93537</th>\n",
       "      <td>1.237670e+18</td>\n",
       "      <td>22.24497</td>\n",
       "      <td>21.39449</td>\n",
       "      <td>21.26231</td>\n",
       "      <td>20.78043</td>\n",
       "      <td>20.90019</td>\n",
       "      <td>1.584604</td>\n",
       "      <td>QSO</td>\n",
       "    </tr>\n",
       "    <tr>\n",
       "      <th>99163</th>\n",
       "      <td>1.237659e+18</td>\n",
       "      <td>20.19905</td>\n",
       "      <td>18.31968</td>\n",
       "      <td>17.79920</td>\n",
       "      <td>17.48406</td>\n",
       "      <td>17.40564</td>\n",
       "      <td>0.102034</td>\n",
       "      <td>GALAXY</td>\n",
       "    </tr>\n",
       "    <tr>\n",
       "      <th>8185</th>\n",
       "      <td>1.237657e+18</td>\n",
       "      <td>24.60439</td>\n",
       "      <td>23.17631</td>\n",
       "      <td>22.77506</td>\n",
       "      <td>22.36519</td>\n",
       "      <td>22.51373</td>\n",
       "      <td>0.756177</td>\n",
       "      <td>GALAXY</td>\n",
       "    </tr>\n",
       "    <tr>\n",
       "      <th>...</th>\n",
       "      <td>...</td>\n",
       "      <td>...</td>\n",
       "      <td>...</td>\n",
       "      <td>...</td>\n",
       "      <td>...</td>\n",
       "      <td>...</td>\n",
       "      <td>...</td>\n",
       "      <td>...</td>\n",
       "    </tr>\n",
       "    <tr>\n",
       "      <th>64063</th>\n",
       "      <td>1.237668e+18</td>\n",
       "      <td>22.51874</td>\n",
       "      <td>20.81075</td>\n",
       "      <td>19.08295</td>\n",
       "      <td>18.44116</td>\n",
       "      <td>18.05490</td>\n",
       "      <td>0.338132</td>\n",
       "      <td>GALAXY</td>\n",
       "    </tr>\n",
       "    <tr>\n",
       "      <th>53175</th>\n",
       "      <td>1.237661e+18</td>\n",
       "      <td>24.84764</td>\n",
       "      <td>22.58610</td>\n",
       "      <td>21.06126</td>\n",
       "      <td>20.04959</td>\n",
       "      <td>19.36045</td>\n",
       "      <td>0.000153</td>\n",
       "      <td>STAR</td>\n",
       "    </tr>\n",
       "    <tr>\n",
       "      <th>61846</th>\n",
       "      <td>1.237668e+18</td>\n",
       "      <td>23.53001</td>\n",
       "      <td>21.99218</td>\n",
       "      <td>20.48153</td>\n",
       "      <td>19.53839</td>\n",
       "      <td>19.07758</td>\n",
       "      <td>0.513883</td>\n",
       "      <td>GALAXY</td>\n",
       "    </tr>\n",
       "    <tr>\n",
       "      <th>53417</th>\n",
       "      <td>1.237664e+18</td>\n",
       "      <td>23.31226</td>\n",
       "      <td>21.12102</td>\n",
       "      <td>19.18586</td>\n",
       "      <td>18.50933</td>\n",
       "      <td>18.05521</td>\n",
       "      <td>0.343587</td>\n",
       "      <td>GALAXY</td>\n",
       "    </tr>\n",
       "    <tr>\n",
       "      <th>8415</th>\n",
       "      <td>1.237665e+18</td>\n",
       "      <td>21.53104</td>\n",
       "      <td>20.23761</td>\n",
       "      <td>20.02926</td>\n",
       "      <td>19.92937</td>\n",
       "      <td>20.03017</td>\n",
       "      <td>0.000506</td>\n",
       "      <td>STAR</td>\n",
       "    </tr>\n",
       "  </tbody>\n",
       "</table>\n",
       "<p>100000 rows × 8 columns</p>\n",
       "</div>"
      ],
      "text/plain": [
       "             obj_ID         u         g         r         i         z  \\\n",
       "122    1.237679e+18  24.70554  22.40585  20.81726  19.85176  19.57173   \n",
       "67641  1.237655e+18  24.71911  20.66083  18.87859  18.17288  17.87914   \n",
       "93537  1.237670e+18  22.24497  21.39449  21.26231  20.78043  20.90019   \n",
       "99163  1.237659e+18  20.19905  18.31968  17.79920  17.48406  17.40564   \n",
       "8185   1.237657e+18  24.60439  23.17631  22.77506  22.36519  22.51373   \n",
       "...             ...       ...       ...       ...       ...       ...   \n",
       "64063  1.237668e+18  22.51874  20.81075  19.08295  18.44116  18.05490   \n",
       "53175  1.237661e+18  24.84764  22.58610  21.06126  20.04959  19.36045   \n",
       "61846  1.237668e+18  23.53001  21.99218  20.48153  19.53839  19.07758   \n",
       "53417  1.237664e+18  23.31226  21.12102  19.18586  18.50933  18.05521   \n",
       "8415   1.237665e+18  21.53104  20.23761  20.02926  19.92937  20.03017   \n",
       "\n",
       "       redshift   class  \n",
       "122    0.487070  GALAXY  \n",
       "67641  0.392983  GALAXY  \n",
       "93537  1.584604     QSO  \n",
       "99163  0.102034  GALAXY  \n",
       "8185   0.756177  GALAXY  \n",
       "...         ...     ...  \n",
       "64063  0.338132  GALAXY  \n",
       "53175  0.000153    STAR  \n",
       "61846  0.513883  GALAXY  \n",
       "53417  0.343587  GALAXY  \n",
       "8415   0.000506    STAR  \n",
       "\n",
       "[100000 rows x 8 columns]"
      ]
     },
     "execution_count": 8,
     "metadata": {},
     "output_type": "execute_result"
    }
   ],
   "source": [
    "df2=df.copy(deep=True)\n",
    "df2=df2.drop(['spec_obj_ID','alpha','delta','run_ID','rerun_ID','cam_col','field_ID','fiber_ID','plate','MJD'], axis = 1)\n",
    "df2.sample(frac=1)"
   ]
  },
  {
   "cell_type": "code",
   "execution_count": 9,
   "id": "53c3bbc0",
   "metadata": {},
   "outputs": [
    {
     "data": {
      "text/html": [
       "<div>\n",
       "<style scoped>\n",
       "    .dataframe tbody tr th:only-of-type {\n",
       "        vertical-align: middle;\n",
       "    }\n",
       "\n",
       "    .dataframe tbody tr th {\n",
       "        vertical-align: top;\n",
       "    }\n",
       "\n",
       "    .dataframe thead th {\n",
       "        text-align: right;\n",
       "    }\n",
       "</style>\n",
       "<table border=\"1\" class=\"dataframe\">\n",
       "  <thead>\n",
       "    <tr style=\"text-align: right;\">\n",
       "      <th></th>\n",
       "      <th>obj_ID</th>\n",
       "      <th>u</th>\n",
       "      <th>g</th>\n",
       "      <th>r</th>\n",
       "      <th>i</th>\n",
       "      <th>z</th>\n",
       "      <th>redshift</th>\n",
       "    </tr>\n",
       "  </thead>\n",
       "  <tbody>\n",
       "    <tr>\n",
       "      <th>obj_ID</th>\n",
       "      <td>1.000000</td>\n",
       "      <td>0.015310</td>\n",
       "      <td>0.015710</td>\n",
       "      <td>0.153891</td>\n",
       "      <td>0.147670</td>\n",
       "      <td>0.013811</td>\n",
       "      <td>0.065400</td>\n",
       "    </tr>\n",
       "    <tr>\n",
       "      <th>u</th>\n",
       "      <td>0.015310</td>\n",
       "      <td>1.000000</td>\n",
       "      <td>0.999311</td>\n",
       "      <td>0.054149</td>\n",
       "      <td>0.045730</td>\n",
       "      <td>0.998093</td>\n",
       "      <td>0.014309</td>\n",
       "    </tr>\n",
       "    <tr>\n",
       "      <th>g</th>\n",
       "      <td>0.015710</td>\n",
       "      <td>0.999311</td>\n",
       "      <td>1.000000</td>\n",
       "      <td>0.062387</td>\n",
       "      <td>0.056271</td>\n",
       "      <td>0.999161</td>\n",
       "      <td>0.022954</td>\n",
       "    </tr>\n",
       "    <tr>\n",
       "      <th>r</th>\n",
       "      <td>0.153891</td>\n",
       "      <td>0.054149</td>\n",
       "      <td>0.062387</td>\n",
       "      <td>1.000000</td>\n",
       "      <td>0.962868</td>\n",
       "      <td>0.053677</td>\n",
       "      <td>0.433241</td>\n",
       "    </tr>\n",
       "    <tr>\n",
       "      <th>i</th>\n",
       "      <td>0.147670</td>\n",
       "      <td>0.045730</td>\n",
       "      <td>0.056271</td>\n",
       "      <td>0.962868</td>\n",
       "      <td>1.000000</td>\n",
       "      <td>0.055994</td>\n",
       "      <td>0.492383</td>\n",
       "    </tr>\n",
       "    <tr>\n",
       "      <th>z</th>\n",
       "      <td>0.013811</td>\n",
       "      <td>0.998093</td>\n",
       "      <td>0.999161</td>\n",
       "      <td>0.053677</td>\n",
       "      <td>0.055994</td>\n",
       "      <td>1.000000</td>\n",
       "      <td>0.030380</td>\n",
       "    </tr>\n",
       "    <tr>\n",
       "      <th>redshift</th>\n",
       "      <td>0.065400</td>\n",
       "      <td>0.014309</td>\n",
       "      <td>0.022954</td>\n",
       "      <td>0.433241</td>\n",
       "      <td>0.492383</td>\n",
       "      <td>0.030380</td>\n",
       "      <td>1.000000</td>\n",
       "    </tr>\n",
       "  </tbody>\n",
       "</table>\n",
       "</div>"
      ],
      "text/plain": [
       "            obj_ID         u         g         r         i         z  redshift\n",
       "obj_ID    1.000000  0.015310  0.015710  0.153891  0.147670  0.013811  0.065400\n",
       "u         0.015310  1.000000  0.999311  0.054149  0.045730  0.998093  0.014309\n",
       "g         0.015710  0.999311  1.000000  0.062387  0.056271  0.999161  0.022954\n",
       "r         0.153891  0.054149  0.062387  1.000000  0.962868  0.053677  0.433241\n",
       "i         0.147670  0.045730  0.056271  0.962868  1.000000  0.055994  0.492383\n",
       "z         0.013811  0.998093  0.999161  0.053677  0.055994  1.000000  0.030380\n",
       "redshift  0.065400  0.014309  0.022954  0.433241  0.492383  0.030380  1.000000"
      ]
     },
     "execution_count": 9,
     "metadata": {},
     "output_type": "execute_result"
    }
   ],
   "source": [
    "corr = df2.corr(method='pearson')\n",
    "corr"
   ]
  },
  {
   "cell_type": "code",
   "execution_count": 10,
   "id": "7407c24c",
   "metadata": {},
   "outputs": [
    {
     "data": {
      "image/png": "[encoded data removed]",
      "text/plain": [
       "<Figure size 864x576 with 2 Axes>"
      ]
     },
     "metadata": {
      "needs_background": "light"
     },
     "output_type": "display_data"
    }
   ],
   "source": [
    "df2=df2.drop(df2['g'].idxmin())\n",
    "f,ax = plt.subplots(figsize=(12,8))\n",
    "sns.heatmap(df2.drop(['obj_ID'], axis = 1).corr(method='pearson'), cmap=plt.cm.CMRmap_r, annot=True, linewidths=0.5, fmt= '.2f',ax=ax)\n",
    "plt.show()"
   ]
  },
  {
   "cell_type": "code",
   "execution_count": 11,
   "id": "54d47795",
   "metadata": {},
   "outputs": [],
   "source": [
    "df3=df2.copy(deep=True)\n",
    "# Create correlation matrix\n",
    "### corr_matrix = df3.corr().abs()\n",
    "# Select upper triangle of correlation matrix\n",
    "### upper = corr_matrix.where(np.triu(np.ones(corr_matrix.shape), k=1).astype(np.bool_))\n",
    "# Find index of feature columns with correlation greater than 0.95\n",
    "### to_drop = [column for column in upper.columns if any(upper[column] >= 0.95)]\n",
    "df3=df3.drop('i', axis=1, inplace=True)\n",
    "df3"
   ]
  },
  {
   "cell_type": "code",
   "execution_count": 12,
   "id": "d9e8e26e",
   "metadata": {},
   "outputs": [
    {
     "name": "stderr",
     "output_type": "stream",
     "text": [
      "/var/folders/xc/wwmv09fx49ldb0xqhs8v6zsm0000gn/T/ipykernel_76268/1311157899.py:6: DeprecationWarning: `np.bool` is a deprecated alias for the builtin `bool`. To silence this warning, use `bool` by itself. Doing this will not modify any behavior and is safe. If you specifically wanted the numpy scalar type, use `np.bool_` here.\n",
      "Deprecated in NumPy 1.20; for more details and guidance: https://numpy.org/devdocs/release/1.20.0-notes.html#deprecations\n",
      "  upper = corr_matrix.where(np.triu(np.ones(corr_matrix.shape), k=1).astype(np.bool))\n"
     ]
    }
   ],
   "source": [
    "def remove_highly_correlated_features(df, threshold):\n",
    "    # Create correlation matrix\n",
    "    corr_matrix = df.corr().abs()\n",
    "\n",
    "    # Select upper triangle of correlation matrix\n",
    "    upper = corr_matrix.where(np.triu(np.ones(corr_matrix.shape), k=1).astype(np.bool))\n",
    "\n",
    "    # Find index of feature columns with correlation greater than threshold\n",
    "    to_drop = [column for column in upper.columns if any(upper[column] > threshold)]\n",
    "\n",
    "    # Drop features \n",
    "    df_dropped = df.drop(df[to_drop], axis=1)\n",
    "    \n",
    "    return df_dropped\n",
    "\n",
    "df3 = remove_highly_correlated_features(df2, 0.95)"
   ]
  },
  {
   "cell_type": "code",
   "execution_count": 13,
   "id": "040ad1b6",
   "metadata": {},
   "outputs": [
    {
     "data": {
      "text/html": [
       "<div>\n",
       "<style scoped>\n",
       "    .dataframe tbody tr th:only-of-type {\n",
       "        vertical-align: middle;\n",
       "    }\n",
       "\n",
       "    .dataframe tbody tr th {\n",
       "        vertical-align: top;\n",
       "    }\n",
       "\n",
       "    .dataframe thead th {\n",
       "        text-align: right;\n",
       "    }\n",
       "</style>\n",
       "<table border=\"1\" class=\"dataframe\">\n",
       "  <thead>\n",
       "    <tr style=\"text-align: right;\">\n",
       "      <th></th>\n",
       "      <th>obj_ID</th>\n",
       "      <th>u</th>\n",
       "      <th>g</th>\n",
       "      <th>r</th>\n",
       "      <th>redshift</th>\n",
       "      <th>class</th>\n",
       "    </tr>\n",
       "  </thead>\n",
       "  <tbody>\n",
       "    <tr>\n",
       "      <th>0</th>\n",
       "      <td>1.237661e+18</td>\n",
       "      <td>23.87882</td>\n",
       "      <td>22.27530</td>\n",
       "      <td>20.39501</td>\n",
       "      <td>0.634794</td>\n",
       "      <td>GALAXY</td>\n",
       "    </tr>\n",
       "    <tr>\n",
       "      <th>1</th>\n",
       "      <td>1.237665e+18</td>\n",
       "      <td>24.77759</td>\n",
       "      <td>22.83188</td>\n",
       "      <td>22.58444</td>\n",
       "      <td>0.779136</td>\n",
       "      <td>GALAXY</td>\n",
       "    </tr>\n",
       "    <tr>\n",
       "      <th>2</th>\n",
       "      <td>1.237661e+18</td>\n",
       "      <td>25.26307</td>\n",
       "      <td>22.66389</td>\n",
       "      <td>20.60976</td>\n",
       "      <td>0.644195</td>\n",
       "      <td>GALAXY</td>\n",
       "    </tr>\n",
       "    <tr>\n",
       "      <th>3</th>\n",
       "      <td>1.237663e+18</td>\n",
       "      <td>22.13682</td>\n",
       "      <td>23.77656</td>\n",
       "      <td>21.61162</td>\n",
       "      <td>0.932346</td>\n",
       "      <td>GALAXY</td>\n",
       "    </tr>\n",
       "    <tr>\n",
       "      <th>4</th>\n",
       "      <td>1.237680e+18</td>\n",
       "      <td>19.43718</td>\n",
       "      <td>17.58028</td>\n",
       "      <td>16.49747</td>\n",
       "      <td>0.116123</td>\n",
       "      <td>GALAXY</td>\n",
       "    </tr>\n",
       "    <tr>\n",
       "      <th>...</th>\n",
       "      <td>...</td>\n",
       "      <td>...</td>\n",
       "      <td>...</td>\n",
       "      <td>...</td>\n",
       "      <td>...</td>\n",
       "      <td>...</td>\n",
       "    </tr>\n",
       "    <tr>\n",
       "      <th>99995</th>\n",
       "      <td>1.237679e+18</td>\n",
       "      <td>22.16759</td>\n",
       "      <td>22.97586</td>\n",
       "      <td>21.90404</td>\n",
       "      <td>0.000000</td>\n",
       "      <td>GALAXY</td>\n",
       "    </tr>\n",
       "    <tr>\n",
       "      <th>99996</th>\n",
       "      <td>1.237679e+18</td>\n",
       "      <td>22.69118</td>\n",
       "      <td>22.38628</td>\n",
       "      <td>20.45003</td>\n",
       "      <td>0.404895</td>\n",
       "      <td>GALAXY</td>\n",
       "    </tr>\n",
       "    <tr>\n",
       "      <th>99997</th>\n",
       "      <td>1.237668e+18</td>\n",
       "      <td>21.16916</td>\n",
       "      <td>19.26997</td>\n",
       "      <td>18.20428</td>\n",
       "      <td>0.143366</td>\n",
       "      <td>GALAXY</td>\n",
       "    </tr>\n",
       "    <tr>\n",
       "      <th>99998</th>\n",
       "      <td>1.237661e+18</td>\n",
       "      <td>25.35039</td>\n",
       "      <td>21.63757</td>\n",
       "      <td>19.91386</td>\n",
       "      <td>0.455040</td>\n",
       "      <td>GALAXY</td>\n",
       "    </tr>\n",
       "    <tr>\n",
       "      <th>99999</th>\n",
       "      <td>1.237661e+18</td>\n",
       "      <td>22.62171</td>\n",
       "      <td>21.79745</td>\n",
       "      <td>20.60115</td>\n",
       "      <td>0.542944</td>\n",
       "      <td>GALAXY</td>\n",
       "    </tr>\n",
       "  </tbody>\n",
       "</table>\n",
       "<p>99999 rows × 6 columns</p>\n",
       "</div>"
      ],
      "text/plain": [
       "             obj_ID         u         g         r  redshift   class\n",
       "0      1.237661e+18  23.87882  22.27530  20.39501  0.634794  GALAXY\n",
       "1      1.237665e+18  24.77759  22.83188  22.58444  0.779136  GALAXY\n",
       "2      1.237661e+18  25.26307  22.66389  20.60976  0.644195  GALAXY\n",
       "3      1.237663e+18  22.13682  23.77656  21.61162  0.932346  GALAXY\n",
       "4      1.237680e+18  19.43718  17.58028  16.49747  0.116123  GALAXY\n",
       "...             ...       ...       ...       ...       ...     ...\n",
       "99995  1.237679e+18  22.16759  22.97586  21.90404  0.000000  GALAXY\n",
       "99996  1.237679e+18  22.69118  22.38628  20.45003  0.404895  GALAXY\n",
       "99997  1.237668e+18  21.16916  19.26997  18.20428  0.143366  GALAXY\n",
       "99998  1.237661e+18  25.35039  21.63757  19.91386  0.455040  GALAXY\n",
       "99999  1.237661e+18  22.62171  21.79745  20.60115  0.542944  GALAXY\n",
       "\n",
       "[99999 rows x 6 columns]"
      ]
     },
     "execution_count": 13,
     "metadata": {},
     "output_type": "execute_result"
    }
   ],
   "source": [
    "df3"
   ]
  },
  {
   "cell_type": "code",
   "execution_count": 14,
   "id": "ef4fb6c8",
   "metadata": {},
   "outputs": [
    {
     "data": {
      "image/png": "[encoded data removed]",
      "text/plain": [
       "<Figure size 864x576 with 2 Axes>"
      ]
     },
     "metadata": {
      "needs_background": "light"
     },
     "output_type": "display_data"
    }
   ],
   "source": [
    "f,ax = plt.subplots(figsize=(12,8))\n",
    "sns.heatmap(df3.drop(['obj_ID'], axis = 1).corr(method='pearson'), cmap=plt.cm.CMRmap_r, annot=True, linewidths=0.5, fmt= '.2f',ax=ax)\n",
    "plt.show()"
   ]
  },
  {
   "cell_type": "markdown",
   "id": "78bdd2b1",
   "metadata": {},
   "source": [
    "# Split the dataframe into a Feature Matrix X and a class vector y"
   ]
  },
  {
   "cell_type": "code",
   "execution_count": 14,
   "id": "e5236476",
   "metadata": {},
   "outputs": [],
   "source": [
    "X = df3.drop(['obj_ID','class'], axis = 1)\n",
    "y = df3.loc[:,'class'].values"
   ]
  },
  {
   "cell_type": "markdown",
   "id": "8269b6d8",
   "metadata": {},
   "source": [
    "# Data Scaling"
   ]
  },
  {
   "cell_type": "code",
   "execution_count": 21,
   "id": "1409fcac",
   "metadata": {},
   "outputs": [],
   "source": [
    "from sklearn.preprocessing import StandardScaler\n",
    "scaler = StandardScaler()\n",
    "X_scaled = scaler.fit_transform(X)"
   ]
  },
  {
   "cell_type": "markdown",
   "id": "cd2d9af1",
   "metadata": {},
   "source": [
    "# Train / Test Split"
   ]
  },
  {
   "cell_type": "code",
   "execution_count": 22,
   "id": "9bd9ecd0",
   "metadata": {},
   "outputs": [],
   "source": [
    "from sklearn.model_selection import train_test_split"
   ]
  },
  {
   "cell_type": "code",
   "execution_count": 23,
   "id": "19812335",
   "metadata": {},
   "outputs": [],
   "source": [
    "X_train, X_test, y_train, y_test = train_test_split(X_scaled, y, test_size = 0.2, random_state = 123,stratify=y)"
   ]
  },
  {
   "cell_type": "code",
   "execution_count": 26,
   "id": "be9479a3",
   "metadata": {},
   "outputs": [
    {
     "data": {
      "text/plain": [
       "<AxesSubplot:ylabel='count'>"
      ]
     },
     "execution_count": 26,
     "metadata": {},
     "output_type": "execute_result"
    },
    {
     "data": {
      "text/plain": [
       "<Figure size 720x576 with 0 Axes>"
      ]
     },
     "metadata": {},
     "output_type": "display_data"
    },
    {
     "data": {
      "image/png": "[encoded data removed]",
      "text/plain": [
       "<Figure size 864x576 with 1 Axes>"
      ]
     },
     "metadata": {
      "needs_background": "light"
     },
     "output_type": "display_data"
    }
   ],
   "source": [
    "ordered_categories = ['GALAXY', 'QSO' , 'STAR']  \n",
    "\n",
    "# convert the 'class' column to a categorical type with specified order\n",
    "df['class'] = df['class'].astype(pd.CategoricalDtype(ordered_categories, ordered=True))\n",
    "\n",
    "plt.figure(figsize=(10,8))\n",
    "plt.figure(figsize=(12,8))\n",
    "# sns.countplot(x = y_train,palette = 'dark')\n",
    "df3['class'] = df3['class'].astype(pd.CategoricalDtype(ordered_categories, ordered=True))\n",
    "\n",
    "sns.countplot(x=y_train, data=df3)"
   ]
  },
  {
   "cell_type": "markdown",
   "id": "fa193436",
   "metadata": {},
   "source": [
    "# Dealing with imbalanced with SMOTE (Synthetic Minority Oversampling TEchnique)"
   ]
  },
  {
   "cell_type": "code",
   "execution_count": 19,
   "id": "f26ba931",
   "metadata": {},
   "outputs": [],
   "source": [
    "from imblearn.over_sampling import SMOTE\n",
    "from collections import Counter"
   ]
  },
  {
   "cell_type": "code",
   "execution_count": 20,
   "id": "7cd92e41",
   "metadata": {},
   "outputs": [
    {
     "name": "stdout",
     "output_type": "stream",
     "text": [
      "Original dataset shape Counter({0: 59445, 1: 21593, 2: 18961})\n",
      "Resampled dataset shape Counter({0: 47556, 1: 47556, 2: 47556})\n"
     ]
    }
   ],
   "source": [
    "sm = SMOTE(random_state=345)\n",
    "print('Original dataset shape %s' % Counter(y))\n",
    "\n",
    "X_train_smote, y_train_smote = sm.fit_resample(X_train, y_train)\n",
    "print('Resampled dataset shape %s' % Counter(y_train_smote))"
   ]
  },
  {
   "cell_type": "code",
   "execution_count": 21,
   "id": "7e9ae053",
   "metadata": {},
   "outputs": [
    {
     "data": {
      "text/plain": [
       "<AxesSubplot:ylabel='count'>"
      ]
     },
     "execution_count": 21,
     "metadata": {},
     "output_type": "execute_result"
    },
    {
     "data": {
      "text/plain": [
       "<Figure size 720x576 with 0 Axes>"
      ]
     },
     "metadata": {},
     "output_type": "display_data"
    },
    {
     "data": {
      "image/png": "[encoded data removed]",
      "text/plain": [
       "<Figure size 864x576 with 1 Axes>"
      ]
     },
     "metadata": {
      "needs_background": "light"
     },
     "output_type": "display_data"
    }
   ],
   "source": [
    "plt.figure(figsize=(10,8))\n",
    "plt.figure(figsize=(12,8))\n",
    "sns.countplot(x = y_train_smote,palette = 'dark')"
   ]
  },
  {
   "cell_type": "markdown",
   "id": "5a6f7123",
   "metadata": {},
   "source": [
    "# Data Scaling 2\n",
    "\n",
    "I noticed that the SMOTE algorithm does not conserve the mean and the std of the sample. So, I will do a second scaling."
   ]
  },
  {
   "cell_type": "code",
   "execution_count": 22,
   "id": "3bbce667",
   "metadata": {},
   "outputs": [],
   "source": [
    "X_train_smote = scaler.fit_transform(X_train_smote)"
   ]
  },
  {
   "cell_type": "markdown",
   "id": "52895889",
   "metadata": {},
   "source": [
    "# Classification"
   ]
  },
  {
   "cell_type": "code",
   "execution_count": 26,
   "id": "f4035dec",
   "metadata": {},
   "outputs": [],
   "source": [
    "from sklearn.ensemble import RandomForestClassifier\n",
    "from sklearn import svm\n",
    "from sklearn.metrics import confusion_matrix, classification_report\n",
    "from sklearn.model_selection import train_test_split, KFold, StratifiedKFold,GridSearchCV\n",
    "from sklearn.metrics import accuracy_score\n",
    "\n",
    "from yellowbrick.classifier import ConfusionMatrix\n",
    "from yellowbrick.classifier import ClassPredictionError\n",
    "from yellowbrick.classifier import ROCAUC\n",
    "from yellowbrick.style import set_palette"
   ]
  },
  {
   "cell_type": "markdown",
   "id": "d46dcb24",
   "metadata": {},
   "source": [
    "## 1- SVM"
   ]
  },
  {
   "cell_type": "markdown",
   "id": "5737bdeb",
   "metadata": {},
   "source": [
    "### 1.a/ Define the SVM model and the grid of parameters"
   ]
  },
  {
   "cell_type": "code",
   "execution_count": 27,
   "id": "a32d233b",
   "metadata": {},
   "outputs": [],
   "source": [
    "# Define the parameter grid for the SVM classifier\n",
    "param_grid = {'C': [0.1, 1, 10], 'kernel': ['linear', 'rbf', 'poly'], 'degree': [2, 3, 4]}\n",
    "\n",
    "# Create a SVM classifier object\n",
    "svc = svm.SVC()\n",
    "\n",
    "# Create a grid search object with cross-validation\n",
    "grid_search_1 = GridSearchCV(svc, param_grid, cv=3,scoring='accuracy', verbose=10)"
   ]
  },
  {
   "cell_type": "markdown",
   "id": "5631dd24",
   "metadata": {},
   "source": [
    "### 1.b/ Select the best SVM model using cross validation"
   ]
  },
  {
   "cell_type": "code",
   "execution_count": 38,
   "id": "914b4071",
   "metadata": {},
   "outputs": [
    {
     "name": "stdout",
     "output_type": "stream",
     "text": [
      "Fitting 3 folds for each of 27 candidates, totalling 81 fits\n",
      "[CV 1/3; 1/27] START C=0.1, degree=2, kernel=linear.............................\n",
      "[CV 1/3; 1/27] END C=0.1, degree=2, kernel=linear;, score=0.945 total time= 1.3min\n",
      "[CV 2/3; 1/27] START C=0.1, degree=2, kernel=linear.............................\n",
      "[CV 2/3; 1/27] END C=0.1, degree=2, kernel=linear;, score=0.944 total time= 1.3min\n",
      "[CV 3/3; 1/27] START C=0.1, degree=2, kernel=linear.............................\n",
      "[CV 3/3; 1/27] END C=0.1, degree=2, kernel=linear;, score=0.948 total time= 1.4min\n",
      "[CV 1/3; 2/27] START C=0.1, degree=2, kernel=rbf................................\n",
      "[CV 1/3; 2/27] END .C=0.1, degree=2, kernel=rbf;, score=0.947 total time= 3.4min\n",
      "[CV 2/3; 2/27] START C=0.1, degree=2, kernel=rbf................................\n",
      "[CV 2/3; 2/27] END .C=0.1, degree=2, kernel=rbf;, score=0.945 total time= 3.3min\n",
      "[CV 3/3; 2/27] START C=0.1, degree=2, kernel=rbf................................\n",
      "[CV 3/3; 2/27] END .C=0.1, degree=2, kernel=rbf;, score=0.949 total time= 3.4min\n",
      "[CV 1/3; 3/27] START C=0.1, degree=2, kernel=poly...............................\n",
      "[CV 1/3; 3/27] END C=0.1, degree=2, kernel=poly;, score=0.837 total time= 4.2min\n",
      "[CV 2/3; 3/27] START C=0.1, degree=2, kernel=poly...............................\n",
      "[CV 2/3; 3/27] END C=0.1, degree=2, kernel=poly;, score=0.838 total time= 4.2min\n",
      "[CV 3/3; 3/27] START C=0.1, degree=2, kernel=poly...............................\n",
      "[CV 3/3; 3/27] END C=0.1, degree=2, kernel=poly;, score=0.841 total time= 4.4min\n",
      "[CV 1/3; 4/27] START C=0.1, degree=3, kernel=linear.............................\n",
      "[CV 1/3; 4/27] END C=0.1, degree=3, kernel=linear;, score=0.945 total time= 1.3min\n",
      "[CV 2/3; 4/27] START C=0.1, degree=3, kernel=linear.............................\n",
      "[CV 2/3; 4/27] END C=0.1, degree=3, kernel=linear;, score=0.944 total time= 1.4min\n",
      "[CV 3/3; 4/27] START C=0.1, degree=3, kernel=linear.............................\n",
      "[CV 3/3; 4/27] END C=0.1, degree=3, kernel=linear;, score=0.948 total time= 1.4min\n",
      "[CV 1/3; 5/27] START C=0.1, degree=3, kernel=rbf................................\n",
      "[CV 1/3; 5/27] END .C=0.1, degree=3, kernel=rbf;, score=0.947 total time= 3.5min\n",
      "[CV 2/3; 5/27] START C=0.1, degree=3, kernel=rbf................................\n",
      "[CV 2/3; 5/27] END .C=0.1, degree=3, kernel=rbf;, score=0.945 total time= 3.6min\n",
      "[CV 3/3; 5/27] START C=0.1, degree=3, kernel=rbf................................\n",
      "[CV 3/3; 5/27] END .C=0.1, degree=3, kernel=rbf;, score=0.949 total time= 3.5min\n",
      "[CV 1/3; 6/27] START C=0.1, degree=3, kernel=poly...............................\n",
      "[CV 1/3; 6/27] END C=0.1, degree=3, kernel=poly;, score=0.902 total time= 3.7min\n",
      "[CV 2/3; 6/27] START C=0.1, degree=3, kernel=poly...............................\n",
      "[CV 2/3; 6/27] END C=0.1, degree=3, kernel=poly;, score=0.902 total time= 4.1min\n",
      "[CV 3/3; 6/27] START C=0.1, degree=3, kernel=poly...............................\n",
      "[CV 3/3; 6/27] END C=0.1, degree=3, kernel=poly;, score=0.906 total time= 4.3min\n",
      "[CV 1/3; 7/27] START C=0.1, degree=4, kernel=linear.............................\n",
      "[CV 1/3; 7/27] END C=0.1, degree=4, kernel=linear;, score=0.945 total time= 2.0min\n",
      "[CV 2/3; 7/27] START C=0.1, degree=4, kernel=linear.............................\n",
      "[CV 2/3; 7/27] END C=0.1, degree=4, kernel=linear;, score=0.944 total time= 1.4min\n",
      "[CV 3/3; 7/27] START C=0.1, degree=4, kernel=linear.............................\n",
      "[CV 3/3; 7/27] END C=0.1, degree=4, kernel=linear;, score=0.948 total time= 1.6min\n",
      "[CV 1/3; 8/27] START C=0.1, degree=4, kernel=rbf................................\n",
      "[CV 1/3; 8/27] END .C=0.1, degree=4, kernel=rbf;, score=0.947 total time= 3.5min\n",
      "[CV 2/3; 8/27] START C=0.1, degree=4, kernel=rbf................................\n",
      "[CV 2/3; 8/27] END .C=0.1, degree=4, kernel=rbf;, score=0.945 total time= 3.5min\n",
      "[CV 3/3; 8/27] START C=0.1, degree=4, kernel=rbf................................\n",
      "[CV 3/3; 8/27] END .C=0.1, degree=4, kernel=rbf;, score=0.949 total time= 3.6min\n",
      "[CV 1/3; 9/27] START C=0.1, degree=4, kernel=poly...............................\n",
      "[CV 1/3; 9/27] END C=0.1, degree=4, kernel=poly;, score=0.796 total time= 5.3min\n",
      "[CV 2/3; 9/27] START C=0.1, degree=4, kernel=poly...............................\n",
      "[CV 2/3; 9/27] END C=0.1, degree=4, kernel=poly;, score=0.793 total time= 5.2min\n",
      "[CV 3/3; 9/27] START C=0.1, degree=4, kernel=poly...............................\n",
      "[CV 3/3; 9/27] END C=0.1, degree=4, kernel=poly;, score=0.797 total time= 5.3min\n",
      "[CV 1/3; 10/27] START C=1, degree=2, kernel=linear..............................\n",
      "[CV 1/3; 10/27] END C=1, degree=2, kernel=linear;, score=0.951 total time= 1.0min\n",
      "[CV 2/3; 10/27] START C=1, degree=2, kernel=linear..............................\n",
      "[CV 2/3; 10/27] END C=1, degree=2, kernel=linear;, score=0.951 total time= 1.0min\n",
      "[CV 3/3; 10/27] START C=1, degree=2, kernel=linear..............................\n",
      "[CV 3/3; 10/27] END C=1, degree=2, kernel=linear;, score=0.954 total time= 1.1min\n",
      "[CV 1/3; 11/27] START C=1, degree=2, kernel=rbf.................................\n",
      "[CV 1/3; 11/27] END ..C=1, degree=2, kernel=rbf;, score=0.962 total time= 2.1min\n",
      "[CV 2/3; 11/27] START C=1, degree=2, kernel=rbf.................................\n",
      "[CV 2/3; 11/27] END ..C=1, degree=2, kernel=rbf;, score=0.961 total time= 2.1min\n",
      "[CV 3/3; 11/27] START C=1, degree=2, kernel=rbf.................................\n",
      "[CV 3/3; 11/27] END ..C=1, degree=2, kernel=rbf;, score=0.964 total time= 2.1min\n",
      "[CV 1/3; 12/27] START C=1, degree=2, kernel=poly................................\n",
      "[CV 1/3; 12/27] END .C=1, degree=2, kernel=poly;, score=0.869 total time= 3.7min\n",
      "[CV 2/3; 12/27] START C=1, degree=2, kernel=poly................................\n",
      "[CV 2/3; 12/27] END .C=1, degree=2, kernel=poly;, score=0.870 total time= 3.7min\n",
      "[CV 3/3; 12/27] START C=1, degree=2, kernel=poly................................\n",
      "[CV 3/3; 12/27] END .C=1, degree=2, kernel=poly;, score=0.873 total time= 3.7min\n",
      "[CV 1/3; 13/27] START C=1, degree=3, kernel=linear..............................\n",
      "[CV 1/3; 13/27] END C=1, degree=3, kernel=linear;, score=0.951 total time= 1.0min\n",
      "[CV 2/3; 13/27] START C=1, degree=3, kernel=linear..............................\n",
      "[CV 2/3; 13/27] END C=1, degree=3, kernel=linear;, score=0.951 total time= 1.0min\n",
      "[CV 3/3; 13/27] START C=1, degree=3, kernel=linear..............................\n",
      "[CV 3/3; 13/27] END C=1, degree=3, kernel=linear;, score=0.954 total time= 1.1min\n",
      "[CV 1/3; 14/27] START C=1, degree=3, kernel=rbf.................................\n",
      "[CV 1/3; 14/27] END ..C=1, degree=3, kernel=rbf;, score=0.962 total time= 2.1min\n",
      "[CV 2/3; 14/27] START C=1, degree=3, kernel=rbf.................................\n",
      "[CV 2/3; 14/27] END ..C=1, degree=3, kernel=rbf;, score=0.961 total time= 2.0min\n",
      "[CV 3/3; 14/27] START C=1, degree=3, kernel=rbf.................................\n",
      "[CV 3/3; 14/27] END ..C=1, degree=3, kernel=rbf;, score=0.964 total time= 2.1min\n",
      "[CV 1/3; 15/27] START C=1, degree=3, kernel=poly................................\n",
      "[CV 1/3; 15/27] END .C=1, degree=3, kernel=poly;, score=0.940 total time= 2.6min\n",
      "[CV 2/3; 15/27] START C=1, degree=3, kernel=poly................................\n",
      "[CV 2/3; 15/27] END .C=1, degree=3, kernel=poly;, score=0.938 total time= 2.6min\n",
      "[CV 3/3; 15/27] START C=1, degree=3, kernel=poly................................\n",
      "[CV 3/3; 15/27] END .C=1, degree=3, kernel=poly;, score=0.942 total time= 2.7min\n",
      "[CV 1/3; 16/27] START C=1, degree=4, kernel=linear..............................\n",
      "[CV 1/3; 16/27] END C=1, degree=4, kernel=linear;, score=0.951 total time= 1.0min\n",
      "[CV 2/3; 16/27] START C=1, degree=4, kernel=linear..............................\n",
      "[CV 2/3; 16/27] END C=1, degree=4, kernel=linear;, score=0.951 total time= 1.0min\n",
      "[CV 3/3; 16/27] START C=1, degree=4, kernel=linear..............................\n",
      "[CV 3/3; 16/27] END C=1, degree=4, kernel=linear;, score=0.954 total time= 1.1min\n",
      "[CV 1/3; 17/27] START C=1, degree=4, kernel=rbf.................................\n",
      "[CV 1/3; 17/27] END ..C=1, degree=4, kernel=rbf;, score=0.962 total time= 2.2min\n",
      "[CV 2/3; 17/27] START C=1, degree=4, kernel=rbf.................................\n",
      "[CV 2/3; 17/27] END ..C=1, degree=4, kernel=rbf;, score=0.961 total time= 2.2min\n",
      "[CV 3/3; 17/27] START C=1, degree=4, kernel=rbf.................................\n"
     ]
    },
    {
     "name": "stdout",
     "output_type": "stream",
     "text": [
      "[CV 3/3; 17/27] END ..C=1, degree=4, kernel=rbf;, score=0.964 total time= 2.3min\n",
      "[CV 1/3; 18/27] START C=1, degree=4, kernel=poly................................\n",
      "[CV 1/3; 18/27] END .C=1, degree=4, kernel=poly;, score=0.871 total time= 4.7min\n",
      "[CV 2/3; 18/27] START C=1, degree=4, kernel=poly................................\n",
      "[CV 2/3; 18/27] END .C=1, degree=4, kernel=poly;, score=0.871 total time= 4.7min\n",
      "[CV 3/3; 18/27] START C=1, degree=4, kernel=poly................................\n",
      "[CV 3/3; 18/27] END .C=1, degree=4, kernel=poly;, score=0.877 total time= 4.8min\n",
      "[CV 1/3; 19/27] START C=10, degree=2, kernel=linear.............................\n",
      "[CV 1/3; 19/27] END C=10, degree=2, kernel=linear;, score=0.953 total time= 1.2min\n",
      "[CV 2/3; 19/27] START C=10, degree=2, kernel=linear.............................\n",
      "[CV 2/3; 19/27] END C=10, degree=2, kernel=linear;, score=0.952 total time= 1.2min\n",
      "[CV 3/3; 19/27] START C=10, degree=2, kernel=linear.............................\n",
      "[CV 3/3; 19/27] END C=10, degree=2, kernel=linear;, score=0.956 total time= 1.2min\n",
      "[CV 1/3; 20/27] START C=10, degree=2, kernel=rbf................................\n",
      "[CV 1/3; 20/27] END .C=10, degree=2, kernel=rbf;, score=0.968 total time= 1.6min\n",
      "[CV 2/3; 20/27] START C=10, degree=2, kernel=rbf................................\n",
      "[CV 2/3; 20/27] END .C=10, degree=2, kernel=rbf;, score=0.967 total time= 1.6min\n",
      "[CV 3/3; 20/27] START C=10, degree=2, kernel=rbf................................\n",
      "[CV 3/3; 20/27] END .C=10, degree=2, kernel=rbf;, score=0.970 total time= 1.6min\n",
      "[CV 1/3; 21/27] START C=10, degree=2, kernel=poly...............................\n",
      "[CV 1/3; 21/27] END C=10, degree=2, kernel=poly;, score=0.874 total time= 3.9min\n",
      "[CV 2/3; 21/27] START C=10, degree=2, kernel=poly...............................\n",
      "[CV 2/3; 21/27] END C=10, degree=2, kernel=poly;, score=0.876 total time= 3.8min\n",
      "[CV 3/3; 21/27] START C=10, degree=2, kernel=poly...............................\n",
      "[CV 3/3; 21/27] END C=10, degree=2, kernel=poly;, score=0.877 total time= 4.0min\n",
      "[CV 1/3; 22/27] START C=10, degree=3, kernel=linear.............................\n",
      "[CV 1/3; 22/27] END C=10, degree=3, kernel=linear;, score=0.953 total time= 1.2min\n",
      "[CV 2/3; 22/27] START C=10, degree=3, kernel=linear.............................\n",
      "[CV 2/3; 22/27] END C=10, degree=3, kernel=linear;, score=0.952 total time= 1.1min\n",
      "[CV 3/3; 22/27] START C=10, degree=3, kernel=linear.............................\n",
      "[CV 3/3; 22/27] END C=10, degree=3, kernel=linear;, score=0.956 total time= 1.2min\n",
      "[CV 1/3; 23/27] START C=10, degree=3, kernel=rbf................................\n",
      "[CV 1/3; 23/27] END .C=10, degree=3, kernel=rbf;, score=0.968 total time= 1.6min\n",
      "[CV 2/3; 23/27] START C=10, degree=3, kernel=rbf................................\n",
      "[CV 2/3; 23/27] END .C=10, degree=3, kernel=rbf;, score=0.967 total time= 1.6min\n",
      "[CV 3/3; 23/27] START C=10, degree=3, kernel=rbf................................\n",
      "[CV 3/3; 23/27] END .C=10, degree=3, kernel=rbf;, score=0.970 total time= 1.6min\n",
      "[CV 1/3; 24/27] START C=10, degree=3, kernel=poly...............................\n",
      "[CV 1/3; 24/27] END C=10, degree=3, kernel=poly;, score=0.955 total time= 3.0min\n",
      "[CV 2/3; 24/27] START C=10, degree=3, kernel=poly...............................\n",
      "[CV 2/3; 24/27] END C=10, degree=3, kernel=poly;, score=0.953 total time= 2.9min\n",
      "[CV 3/3; 24/27] START C=10, degree=3, kernel=poly...............................\n",
      "[CV 3/3; 24/27] END C=10, degree=3, kernel=poly;, score=0.957 total time= 3.4min\n",
      "[CV 1/3; 25/27] START C=10, degree=4, kernel=linear.............................\n",
      "[CV 1/3; 25/27] END C=10, degree=4, kernel=linear;, score=0.953 total time= 1.2min\n",
      "[CV 2/3; 25/27] START C=10, degree=4, kernel=linear.............................\n",
      "[CV 2/3; 25/27] END C=10, degree=4, kernel=linear;, score=0.952 total time= 1.1min\n",
      "[CV 3/3; 25/27] START C=10, degree=4, kernel=linear.............................\n",
      "[CV 3/3; 25/27] END C=10, degree=4, kernel=linear;, score=0.956 total time= 1.2min\n",
      "[CV 1/3; 26/27] START C=10, degree=4, kernel=rbf................................\n",
      "[CV 1/3; 26/27] END .C=10, degree=4, kernel=rbf;, score=0.968 total time= 1.6min\n",
      "[CV 2/3; 26/27] START C=10, degree=4, kernel=rbf................................\n",
      "[CV 2/3; 26/27] END .C=10, degree=4, kernel=rbf;, score=0.967 total time= 1.6min\n",
      "[CV 3/3; 26/27] START C=10, degree=4, kernel=rbf................................\n",
      "[CV 3/3; 26/27] END .C=10, degree=4, kernel=rbf;, score=0.970 total time= 1.7min\n",
      "[CV 1/3; 27/27] START C=10, degree=4, kernel=poly...............................\n",
      "[CV 1/3; 27/27] END C=10, degree=4, kernel=poly;, score=0.894 total time= 5.0min\n",
      "[CV 2/3; 27/27] START C=10, degree=4, kernel=poly...............................\n",
      "[CV 2/3; 27/27] END C=10, degree=4, kernel=poly;, score=0.895 total time= 5.2min\n",
      "[CV 3/3; 27/27] START C=10, degree=4, kernel=poly...............................\n",
      "[CV 3/3; 27/27] END C=10, degree=4, kernel=poly;, score=0.898 total time= 5.4min\n"
     ]
    }
   ],
   "source": [
    "# This section takes 3 hours and 30 minutes to run. \n",
    "# It carries out a 3-fold cross validation over the grid search to select the best model.\n",
    "# The best parameters that it will give are: {'C': 10, 'degree': 2, 'kernel': 'rbf'}\n",
    "# You can skip it and go to the section: 1.c/ Train the best model on the entire dataset\n",
    "\n",
    "#___________________________________________________\n",
    "#start = time.time()\n",
    "# #Fit the grid search object to the training data\n",
    "#grid_search_1.fit(X_train_smote, y_train_smote)\n",
    "#end = time.time()\n",
    "#dt=end-start\n"
   ]
  },
  {
   "cell_type": "code",
   "execution_count": 25,
   "id": "2590c0d9",
   "metadata": {},
   "outputs": [],
   "source": [
    "# print('delta t =', dt, 'seconds')"
   ]
  },
  {
   "cell_type": "code",
   "execution_count": 40,
   "id": "158612c3",
   "metadata": {},
   "outputs": [
    {
     "name": "stdout",
     "output_type": "stream",
     "text": [
      "Mean test score: 0.946 (+/-0.002) for {'C': 0.1, 'degree': 2, 'kernel': 'linear'}\n",
      "Mean test score: 0.947 (+/-0.002) for {'C': 0.1, 'degree': 2, 'kernel': 'rbf'}\n",
      "Mean test score: 0.839 (+/-0.002) for {'C': 0.1, 'degree': 2, 'kernel': 'poly'}\n",
      "Mean test score: 0.946 (+/-0.002) for {'C': 0.1, 'degree': 3, 'kernel': 'linear'}\n",
      "Mean test score: 0.947 (+/-0.002) for {'C': 0.1, 'degree': 3, 'kernel': 'rbf'}\n",
      "Mean test score: 0.903 (+/-0.002) for {'C': 0.1, 'degree': 3, 'kernel': 'poly'}\n",
      "Mean test score: 0.946 (+/-0.002) for {'C': 0.1, 'degree': 4, 'kernel': 'linear'}\n",
      "Mean test score: 0.947 (+/-0.002) for {'C': 0.1, 'degree': 4, 'kernel': 'rbf'}\n",
      "Mean test score: 0.795 (+/-0.002) for {'C': 0.1, 'degree': 4, 'kernel': 'poly'}\n",
      "Mean test score: 0.952 (+/-0.002) for {'C': 1, 'degree': 2, 'kernel': 'linear'}\n",
      "Mean test score: 0.962 (+/-0.001) for {'C': 1, 'degree': 2, 'kernel': 'rbf'}\n",
      "Mean test score: 0.870 (+/-0.002) for {'C': 1, 'degree': 2, 'kernel': 'poly'}\n",
      "Mean test score: 0.952 (+/-0.002) for {'C': 1, 'degree': 3, 'kernel': 'linear'}\n",
      "Mean test score: 0.962 (+/-0.001) for {'C': 1, 'degree': 3, 'kernel': 'rbf'}\n",
      "Mean test score: 0.940 (+/-0.002) for {'C': 1, 'degree': 3, 'kernel': 'poly'}\n",
      "Mean test score: 0.952 (+/-0.002) for {'C': 1, 'degree': 4, 'kernel': 'linear'}\n",
      "Mean test score: 0.962 (+/-0.001) for {'C': 1, 'degree': 4, 'kernel': 'rbf'}\n",
      "Mean test score: 0.873 (+/-0.003) for {'C': 1, 'degree': 4, 'kernel': 'poly'}\n",
      "Mean test score: 0.954 (+/-0.002) for {'C': 10, 'degree': 2, 'kernel': 'linear'}\n",
      "Mean test score: 0.969 (+/-0.001) for {'C': 10, 'degree': 2, 'kernel': 'rbf'}\n",
      "Mean test score: 0.876 (+/-0.001) for {'C': 10, 'degree': 2, 'kernel': 'poly'}\n",
      "Mean test score: 0.954 (+/-0.002) for {'C': 10, 'degree': 3, 'kernel': 'linear'}\n",
      "Mean test score: 0.969 (+/-0.001) for {'C': 10, 'degree': 3, 'kernel': 'rbf'}\n",
      "Mean test score: 0.955 (+/-0.002) for {'C': 10, 'degree': 3, 'kernel': 'poly'}\n",
      "Mean test score: 0.954 (+/-0.002) for {'C': 10, 'degree': 4, 'kernel': 'linear'}\n",
      "Mean test score: 0.969 (+/-0.001) for {'C': 10, 'degree': 4, 'kernel': 'rbf'}\n",
      "Mean test score: 0.896 (+/-0.002) for {'C': 10, 'degree': 4, 'kernel': 'poly'}\n"
     ]
    }
   ],
   "source": [
    "# #Print results\n",
    "#results = grid_search_1.cv_results_\n",
    "#for mean_score, std_score, params in zip(results['mean_test_score'], results['std_test_score'], results['params']):\n",
    "#    print(f\"Mean test score: {mean_score:.3f} (+/-{std_score:.3f}) for {params}\")"
   ]
  },
  {
   "cell_type": "code",
   "execution_count": 42,
   "id": "af67c976",
   "metadata": {},
   "outputs": [
    {
     "name": "stdout",
     "output_type": "stream",
     "text": [
      "Best parameters:  {'C': 10, 'degree': 2, 'kernel': 'rbf'}\n",
      "Best score:  0.9685002943897721\n"
     ]
    }
   ],
   "source": [
    "# #Print the best parameters and score\n",
    "#print('Best parameters: ', grid_search_1.best_params_)\n",
    "#print('Best score: ', grid_search_1.best_score_)\n",
    "# #Access the best model\n",
    "#best_model_SVM = grid_search_1.best_estimator_"
   ]
  },
  {
   "cell_type": "markdown",
   "id": "7915ff93",
   "metadata": {},
   "source": [
    "### 1.c/ Train the best model on the entire dataset"
   ]
  },
  {
   "cell_type": "code",
   "execution_count": 30,
   "id": "50134e6f",
   "metadata": {},
   "outputs": [],
   "source": [
    "best_model_SVM = svm.SVC(C=10, degree=2, kernel='rbf')"
   ]
  },
  {
   "cell_type": "code",
   "execution_count": 31,
   "id": "87994d78",
   "metadata": {},
   "outputs": [
    {
     "data": {
      "text/plain": [
       "SVC(C=10, degree=2)"
      ]
     },
     "execution_count": 31,
     "metadata": {},
     "output_type": "execute_result"
    }
   ],
   "source": [
    "best_model_SVM.fit(X_train_smote,y_train_smote)"
   ]
  },
  {
   "cell_type": "code",
   "execution_count": 88,
   "id": "5d606293",
   "metadata": {},
   "outputs": [
    {
     "data": {
      "text/plain": [
       "0.93975"
      ]
     },
     "execution_count": 88,
     "metadata": {},
     "output_type": "execute_result"
    }
   ],
   "source": [
    "# Print the Accuracy\n",
    "y_pred = best_model_SVM.predict(X_test)\n",
    "accuracy_svm = accuracy_score(y_test, y_pred)"
   ]
  },
  {
   "cell_type": "code",
   "execution_count": null,
   "id": "b7198812",
   "metadata": {},
   "outputs": [],
   "source": [
    "# Print the classification report\n",
    "#y_pred = grid_search_1.predict(X_test)\n",
    "#print(classification_report(y_test, y_pred))"
   ]
  },
  {
   "cell_type": "markdown",
   "id": "2e1e6f22",
   "metadata": {},
   "source": [
    "### 1.d/ Confusion Matrix"
   ]
  },
  {
   "cell_type": "code",
   "execution_count": 166,
   "id": "37844201",
   "metadata": {},
   "outputs": [
    {
     "name": "stderr",
     "output_type": "stream",
     "text": [
      "/Users/rafidbendimerad/opt/anaconda3/lib/python3.9/site-packages/yellowbrick/classifier/base.py:232: YellowbrickWarning: could not determine class_counts_ from previously fitted classifier\n",
      "  warnings.warn(\n"
     ]
    },
    {
     "data": {
      "image/png": "[encoded data removed]",
      "text/plain": [
       "<Figure size 576x396 with 1 Axes>"
      ]
     },
     "metadata": {},
     "output_type": "display_data"
    },
    {
     "data": {
      "text/plain": [
       "<AxesSubplot:title={'center':'SVC Confusion Matrix'}, xlabel='Predicted Class', ylabel='True Class'>"
      ]
     },
     "execution_count": 166,
     "metadata": {},
     "output_type": "execute_result"
    }
   ],
   "source": [
    "Classes = ['GALAXY','QSO','STAR']\n",
    "viz = ConfusionMatrix(best_model_SVM,classes=Classes,cmap=\"Reds\",percent=True)\n",
    "# Fit the visualizer on the training data\n",
    "#viz.fit(X_train_smote, y_train_smote)\n",
    "viz.score(X_test, y_test)\n",
    "viz.show()\n",
    "\n"
   ]
  },
  {
   "cell_type": "markdown",
   "id": "cebbc696",
   "metadata": {},
   "source": [
    "### 1.e/ Class Prediction Error"
   ]
  },
  {
   "cell_type": "code",
   "execution_count": 167,
   "id": "34cb7f56",
   "metadata": {},
   "outputs": [
    {
     "name": "stderr",
     "output_type": "stream",
     "text": [
      "/Users/rafidbendimerad/opt/anaconda3/lib/python3.9/site-packages/yellowbrick/classifier/base.py:232: YellowbrickWarning: could not determine class_counts_ from previously fitted classifier\n",
      "  warnings.warn(\n"
     ]
    },
    {
     "data": {
      "image/png": "[encoded data removed]",
      "text/plain": [
       "<Figure size 576x396 with 1 Axes>"
      ]
     },
     "metadata": {},
     "output_type": "display_data"
    },
    {
     "data": {
      "text/plain": [
       "<AxesSubplot:title={'center':'Class Prediction Error for SVC'}, xlabel='actual class', ylabel='number of predicted class'>"
      ]
     },
     "execution_count": 167,
     "metadata": {},
     "output_type": "execute_result"
    }
   ],
   "source": [
    "visualizer = ClassPredictionError(best_model_SVM, classes=Classes)\n",
    "set_palette('muted')\n",
    "\n",
    "#visualizer.fit(X_train_smote, y_train_smote)        # Fit the training data to the visualizer\n",
    "visualizer.score(X_test, y_test)        # Evaluate the model on the test data\n",
    "visualizer.show()                       # Draw visualization"
   ]
  },
  {
   "cell_type": "markdown",
   "id": "0a9b0748",
   "metadata": {},
   "source": [
    "### 1.f/ ROC curves"
   ]
  },
  {
   "cell_type": "code",
   "execution_count": 36,
   "id": "c07c3699",
   "metadata": {},
   "outputs": [
    {
     "data": {
      "image/png": "[encoded data removed]",
      "text/plain": [
       "<Figure size 576x396 with 1 Axes>"
      ]
     },
     "metadata": {},
     "output_type": "display_data"
    },
    {
     "data": {
      "text/plain": [
       "<AxesSubplot:title={'center':'ROC Curves for SVC'}, xlabel='False Positive Rate', ylabel='True Positive Rate'>"
      ]
     },
     "execution_count": 36,
     "metadata": {},
     "output_type": "execute_result"
    }
   ],
   "source": [
    "visualizer = ROCAUC(best_model_SVM, classes=Classes)\n",
    "set_palette('bold')\n",
    "\n",
    "visualizer.fit(X_train_smote, y_train_smote)        # Fit the training data to the visualizer\n",
    "visualizer.score(X_test, y_test)        # Evaluate the model on the test data\n",
    "visualizer.show()"
   ]
  },
  {
   "cell_type": "markdown",
   "id": "a257f6c3",
   "metadata": {},
   "source": [
    "----"
   ]
  },
  {
   "cell_type": "markdown",
   "id": "b44c951b",
   "metadata": {},
   "source": [
    "___"
   ]
  },
  {
   "cell_type": "markdown",
   "id": "d8af6aa4",
   "metadata": {},
   "source": [
    "## 2- Random Forest"
   ]
  },
  {
   "cell_type": "markdown",
   "id": "fecd3c0f",
   "metadata": {},
   "source": [
    "### 2.a/ Define the RF model and the grid of parameters"
   ]
  },
  {
   "cell_type": "code",
   "execution_count": 65,
   "id": "ab1a6cba",
   "metadata": {},
   "outputs": [],
   "source": [
    "from sklearn.ensemble import RandomForestClassifier"
   ]
  },
  {
   "cell_type": "code",
   "execution_count": 76,
   "id": "ab968f2c",
   "metadata": {},
   "outputs": [],
   "source": [
    "# Define the parameter grid for the RF classifier\n",
    "param_grid_RF = {'n_estimators': [10, 20, 50],\n",
    "              'max_depth': [5,10,None],\n",
    "              'min_samples_split': [2, 5, 10]}\n",
    "\n",
    "# Initialize the Random Forest classifier\n",
    "rf = RandomForestClassifier(random_state=42)\n",
    "# Set up the grid search\n",
    "grid_search_RF = GridSearchCV(rf, param_grid_RF, cv=3, scoring='accuracy', verbose=10)"
   ]
  },
  {
   "cell_type": "markdown",
   "id": "d044471b",
   "metadata": {},
   "source": [
    "### 2.b/ Train the RF models using cross validation¶"
   ]
  },
  {
   "cell_type": "code",
   "execution_count": 77,
   "id": "092f674d",
   "metadata": {},
   "outputs": [
    {
     "name": "stdout",
     "output_type": "stream",
     "text": [
      "Fitting 3 folds for each of 27 candidates, totalling 81 fits\n",
      "[CV 1/3; 1/27] START max_depth=5, min_samples_split=2, n_estimators=10..........\n",
      "[CV 1/3; 1/27] END max_depth=5, min_samples_split=2, n_estimators=10;, score=0.958 total time=   0.8s\n",
      "[CV 2/3; 1/27] START max_depth=5, min_samples_split=2, n_estimators=10..........\n",
      "[CV 2/3; 1/27] END max_depth=5, min_samples_split=2, n_estimators=10;, score=0.961 total time=   0.7s\n",
      "[CV 3/3; 1/27] START max_depth=5, min_samples_split=2, n_estimators=10..........\n",
      "[CV 3/3; 1/27] END max_depth=5, min_samples_split=2, n_estimators=10;, score=0.965 total time=   0.7s\n",
      "[CV 1/3; 2/27] START max_depth=5, min_samples_split=2, n_estimators=20..........\n",
      "[CV 1/3; 2/27] END max_depth=5, min_samples_split=2, n_estimators=20;, score=0.963 total time=   1.3s\n",
      "[CV 2/3; 2/27] START max_depth=5, min_samples_split=2, n_estimators=20..........\n",
      "[CV 2/3; 2/27] END max_depth=5, min_samples_split=2, n_estimators=20;, score=0.961 total time=   1.4s\n",
      "[CV 3/3; 2/27] START max_depth=5, min_samples_split=2, n_estimators=20..........\n",
      "[CV 3/3; 2/27] END max_depth=5, min_samples_split=2, n_estimators=20;, score=0.966 total time=   1.4s\n",
      "[CV 1/3; 3/27] START max_depth=5, min_samples_split=2, n_estimators=50..........\n",
      "[CV 1/3; 3/27] END max_depth=5, min_samples_split=2, n_estimators=50;, score=0.963 total time=   3.3s\n",
      "[CV 2/3; 3/27] START max_depth=5, min_samples_split=2, n_estimators=50..........\n",
      "[CV 2/3; 3/27] END max_depth=5, min_samples_split=2, n_estimators=50;, score=0.961 total time=   3.4s\n",
      "[CV 3/3; 3/27] START max_depth=5, min_samples_split=2, n_estimators=50..........\n",
      "[CV 3/3; 3/27] END max_depth=5, min_samples_split=2, n_estimators=50;, score=0.966 total time=   3.5s\n",
      "[CV 1/3; 4/27] START max_depth=5, min_samples_split=5, n_estimators=10..........\n",
      "[CV 1/3; 4/27] END max_depth=5, min_samples_split=5, n_estimators=10;, score=0.961 total time=   0.7s\n",
      "[CV 2/3; 4/27] START max_depth=5, min_samples_split=5, n_estimators=10..........\n",
      "[CV 2/3; 4/27] END max_depth=5, min_samples_split=5, n_estimators=10;, score=0.961 total time=   0.8s\n",
      "[CV 3/3; 4/27] START max_depth=5, min_samples_split=5, n_estimators=10..........\n",
      "[CV 3/3; 4/27] END max_depth=5, min_samples_split=5, n_estimators=10;, score=0.965 total time=   0.7s\n",
      "[CV 1/3; 5/27] START max_depth=5, min_samples_split=5, n_estimators=20..........\n",
      "[CV 1/3; 5/27] END max_depth=5, min_samples_split=5, n_estimators=20;, score=0.963 total time=   1.4s\n",
      "[CV 2/3; 5/27] START max_depth=5, min_samples_split=5, n_estimators=20..........\n",
      "[CV 2/3; 5/27] END max_depth=5, min_samples_split=5, n_estimators=20;, score=0.961 total time=   1.4s\n",
      "[CV 3/3; 5/27] START max_depth=5, min_samples_split=5, n_estimators=20..........\n",
      "[CV 3/3; 5/27] END max_depth=5, min_samples_split=5, n_estimators=20;, score=0.965 total time=   1.5s\n",
      "[CV 1/3; 6/27] START max_depth=5, min_samples_split=5, n_estimators=50..........\n",
      "[CV 1/3; 6/27] END max_depth=5, min_samples_split=5, n_estimators=50;, score=0.963 total time=   3.6s\n",
      "[CV 2/3; 6/27] START max_depth=5, min_samples_split=5, n_estimators=50..........\n",
      "[CV 2/3; 6/27] END max_depth=5, min_samples_split=5, n_estimators=50;, score=0.961 total time=   3.4s\n",
      "[CV 3/3; 6/27] START max_depth=5, min_samples_split=5, n_estimators=50..........\n",
      "[CV 3/3; 6/27] END max_depth=5, min_samples_split=5, n_estimators=50;, score=0.966 total time=   3.7s\n",
      "[CV 1/3; 7/27] START max_depth=5, min_samples_split=10, n_estimators=10.........\n",
      "[CV 1/3; 7/27] END max_depth=5, min_samples_split=10, n_estimators=10;, score=0.961 total time=   0.8s\n",
      "[CV 2/3; 7/27] START max_depth=5, min_samples_split=10, n_estimators=10.........\n",
      "[CV 2/3; 7/27] END max_depth=5, min_samples_split=10, n_estimators=10;, score=0.959 total time=   0.8s\n",
      "[CV 3/3; 7/27] START max_depth=5, min_samples_split=10, n_estimators=10.........\n",
      "[CV 3/3; 7/27] END max_depth=5, min_samples_split=10, n_estimators=10;, score=0.964 total time=   0.9s\n",
      "[CV 1/3; 8/27] START max_depth=5, min_samples_split=10, n_estimators=20.........\n",
      "[CV 1/3; 8/27] END max_depth=5, min_samples_split=10, n_estimators=20;, score=0.963 total time=   1.4s\n",
      "[CV 2/3; 8/27] START max_depth=5, min_samples_split=10, n_estimators=20.........\n",
      "[CV 2/3; 8/27] END max_depth=5, min_samples_split=10, n_estimators=20;, score=0.960 total time=   1.5s\n",
      "[CV 3/3; 8/27] START max_depth=5, min_samples_split=10, n_estimators=20.........\n",
      "[CV 3/3; 8/27] END max_depth=5, min_samples_split=10, n_estimators=20;, score=0.966 total time=   1.5s\n",
      "[CV 1/3; 9/27] START max_depth=5, min_samples_split=10, n_estimators=50.........\n",
      "[CV 1/3; 9/27] END max_depth=5, min_samples_split=10, n_estimators=50;, score=0.963 total time=   3.4s\n",
      "[CV 2/3; 9/27] START max_depth=5, min_samples_split=10, n_estimators=50.........\n",
      "[CV 2/3; 9/27] END max_depth=5, min_samples_split=10, n_estimators=50;, score=0.961 total time=   3.5s\n",
      "[CV 3/3; 9/27] START max_depth=5, min_samples_split=10, n_estimators=50.........\n",
      "[CV 3/3; 9/27] END max_depth=5, min_samples_split=10, n_estimators=50;, score=0.965 total time=   3.5s\n",
      "[CV 1/3; 10/27] START max_depth=10, min_samples_split=2, n_estimators=10........\n",
      "[CV 1/3; 10/27] END max_depth=10, min_samples_split=2, n_estimators=10;, score=0.972 total time=   1.1s\n",
      "[CV 2/3; 10/27] START max_depth=10, min_samples_split=2, n_estimators=10........\n",
      "[CV 2/3; 10/27] END max_depth=10, min_samples_split=2, n_estimators=10;, score=0.972 total time=   1.1s\n",
      "[CV 3/3; 10/27] START max_depth=10, min_samples_split=2, n_estimators=10........\n",
      "[CV 3/3; 10/27] END max_depth=10, min_samples_split=2, n_estimators=10;, score=0.976 total time=   1.2s\n",
      "[CV 1/3; 11/27] START max_depth=10, min_samples_split=2, n_estimators=20........\n",
      "[CV 1/3; 11/27] END max_depth=10, min_samples_split=2, n_estimators=20;, score=0.973 total time=   2.3s\n",
      "[CV 2/3; 11/27] START max_depth=10, min_samples_split=2, n_estimators=20........\n",
      "[CV 2/3; 11/27] END max_depth=10, min_samples_split=2, n_estimators=20;, score=0.972 total time=   2.6s\n",
      "[CV 3/3; 11/27] START max_depth=10, min_samples_split=2, n_estimators=20........\n",
      "[CV 3/3; 11/27] END max_depth=10, min_samples_split=2, n_estimators=20;, score=0.976 total time=   2.4s\n",
      "[CV 1/3; 12/27] START max_depth=10, min_samples_split=2, n_estimators=50........\n",
      "[CV 1/3; 12/27] END max_depth=10, min_samples_split=2, n_estimators=50;, score=0.973 total time=   5.6s\n",
      "[CV 2/3; 12/27] START max_depth=10, min_samples_split=2, n_estimators=50........\n",
      "[CV 2/3; 12/27] END max_depth=10, min_samples_split=2, n_estimators=50;, score=0.973 total time=   5.6s\n",
      "[CV 3/3; 12/27] START max_depth=10, min_samples_split=2, n_estimators=50........\n",
      "[CV 3/3; 12/27] END max_depth=10, min_samples_split=2, n_estimators=50;, score=0.976 total time=   5.8s\n",
      "[CV 1/3; 13/27] START max_depth=10, min_samples_split=5, n_estimators=10........\n",
      "[CV 1/3; 13/27] END max_depth=10, min_samples_split=5, n_estimators=10;, score=0.973 total time=   1.1s\n",
      "[CV 2/3; 13/27] START max_depth=10, min_samples_split=5, n_estimators=10........\n",
      "[CV 2/3; 13/27] END max_depth=10, min_samples_split=5, n_estimators=10;, score=0.973 total time=   1.1s\n",
      "[CV 3/3; 13/27] START max_depth=10, min_samples_split=5, n_estimators=10........\n",
      "[CV 3/3; 13/27] END max_depth=10, min_samples_split=5, n_estimators=10;, score=0.976 total time=   1.2s\n",
      "[CV 1/3; 14/27] START max_depth=10, min_samples_split=5, n_estimators=20........\n",
      "[CV 1/3; 14/27] END max_depth=10, min_samples_split=5, n_estimators=20;, score=0.973 total time=   2.2s\n",
      "[CV 2/3; 14/27] START max_depth=10, min_samples_split=5, n_estimators=20........\n",
      "[CV 2/3; 14/27] END max_depth=10, min_samples_split=5, n_estimators=20;, score=0.973 total time=   2.3s\n",
      "[CV 3/3; 14/27] START max_depth=10, min_samples_split=5, n_estimators=20........\n",
      "[CV 3/3; 14/27] END max_depth=10, min_samples_split=5, n_estimators=20;, score=0.976 total time=   2.3s\n",
      "[CV 1/3; 15/27] START max_depth=10, min_samples_split=5, n_estimators=50........\n",
      "[CV 1/3; 15/27] END max_depth=10, min_samples_split=5, n_estimators=50;, score=0.974 total time=   5.6s\n",
      "[CV 2/3; 15/27] START max_depth=10, min_samples_split=5, n_estimators=50........\n",
      "[CV 2/3; 15/27] END max_depth=10, min_samples_split=5, n_estimators=50;, score=0.973 total time=   6.2s\n",
      "[CV 3/3; 15/27] START max_depth=10, min_samples_split=5, n_estimators=50........\n"
     ]
    },
    {
     "name": "stdout",
     "output_type": "stream",
     "text": [
      "[CV 3/3; 15/27] END max_depth=10, min_samples_split=5, n_estimators=50;, score=0.976 total time=   6.0s\n",
      "[CV 1/3; 16/27] START max_depth=10, min_samples_split=10, n_estimators=10.......\n",
      "[CV 1/3; 16/27] END max_depth=10, min_samples_split=10, n_estimators=10;, score=0.973 total time=   1.2s\n",
      "[CV 2/3; 16/27] START max_depth=10, min_samples_split=10, n_estimators=10.......\n",
      "[CV 2/3; 16/27] END max_depth=10, min_samples_split=10, n_estimators=10;, score=0.972 total time=   1.2s\n",
      "[CV 3/3; 16/27] START max_depth=10, min_samples_split=10, n_estimators=10.......\n",
      "[CV 3/3; 16/27] END max_depth=10, min_samples_split=10, n_estimators=10;, score=0.977 total time=   1.2s\n",
      "[CV 1/3; 17/27] START max_depth=10, min_samples_split=10, n_estimators=20.......\n",
      "[CV 1/3; 17/27] END max_depth=10, min_samples_split=10, n_estimators=20;, score=0.974 total time=   2.3s\n",
      "[CV 2/3; 17/27] START max_depth=10, min_samples_split=10, n_estimators=20.......\n",
      "[CV 2/3; 17/27] END max_depth=10, min_samples_split=10, n_estimators=20;, score=0.973 total time=   2.3s\n",
      "[CV 3/3; 17/27] START max_depth=10, min_samples_split=10, n_estimators=20.......\n",
      "[CV 3/3; 17/27] END max_depth=10, min_samples_split=10, n_estimators=20;, score=0.976 total time=   2.3s\n",
      "[CV 1/3; 18/27] START max_depth=10, min_samples_split=10, n_estimators=50.......\n",
      "[CV 1/3; 18/27] END max_depth=10, min_samples_split=10, n_estimators=50;, score=0.974 total time=   5.5s\n",
      "[CV 2/3; 18/27] START max_depth=10, min_samples_split=10, n_estimators=50.......\n",
      "[CV 2/3; 18/27] END max_depth=10, min_samples_split=10, n_estimators=50;, score=0.973 total time=   5.6s\n",
      "[CV 3/3; 18/27] START max_depth=10, min_samples_split=10, n_estimators=50.......\n",
      "[CV 3/3; 18/27] END max_depth=10, min_samples_split=10, n_estimators=50;, score=0.976 total time=   5.8s\n",
      "[CV 1/3; 19/27] START max_depth=None, min_samples_split=2, n_estimators=10......\n",
      "[CV 1/3; 19/27] END max_depth=None, min_samples_split=2, n_estimators=10;, score=0.977 total time=   1.4s\n",
      "[CV 2/3; 19/27] START max_depth=None, min_samples_split=2, n_estimators=10......\n",
      "[CV 2/3; 19/27] END max_depth=None, min_samples_split=2, n_estimators=10;, score=0.978 total time=   1.4s\n",
      "[CV 3/3; 19/27] START max_depth=None, min_samples_split=2, n_estimators=10......\n",
      "[CV 3/3; 19/27] END max_depth=None, min_samples_split=2, n_estimators=10;, score=0.981 total time=   1.5s\n",
      "[CV 1/3; 20/27] START max_depth=None, min_samples_split=2, n_estimators=20......\n",
      "[CV 1/3; 20/27] END max_depth=None, min_samples_split=2, n_estimators=20;, score=0.979 total time=   2.7s\n",
      "[CV 2/3; 20/27] START max_depth=None, min_samples_split=2, n_estimators=20......\n",
      "[CV 2/3; 20/27] END max_depth=None, min_samples_split=2, n_estimators=20;, score=0.978 total time=   2.8s\n",
      "[CV 3/3; 20/27] START max_depth=None, min_samples_split=2, n_estimators=20......\n",
      "[CV 3/3; 20/27] END max_depth=None, min_samples_split=2, n_estimators=20;, score=0.982 total time=   2.9s\n",
      "[CV 1/3; 21/27] START max_depth=None, min_samples_split=2, n_estimators=50......\n",
      "[CV 1/3; 21/27] END max_depth=None, min_samples_split=2, n_estimators=50;, score=0.979 total time=   6.8s\n",
      "[CV 2/3; 21/27] START max_depth=None, min_samples_split=2, n_estimators=50......\n",
      "[CV 2/3; 21/27] END max_depth=None, min_samples_split=2, n_estimators=50;, score=0.979 total time=   7.0s\n",
      "[CV 3/3; 21/27] START max_depth=None, min_samples_split=2, n_estimators=50......\n",
      "[CV 3/3; 21/27] END max_depth=None, min_samples_split=2, n_estimators=50;, score=0.983 total time=   7.3s\n",
      "[CV 1/3; 22/27] START max_depth=None, min_samples_split=5, n_estimators=10......\n",
      "[CV 1/3; 22/27] END max_depth=None, min_samples_split=5, n_estimators=10;, score=0.977 total time=   1.4s\n",
      "[CV 2/3; 22/27] START max_depth=None, min_samples_split=5, n_estimators=10......\n",
      "[CV 2/3; 22/27] END max_depth=None, min_samples_split=5, n_estimators=10;, score=0.978 total time=   1.4s\n",
      "[CV 3/3; 22/27] START max_depth=None, min_samples_split=5, n_estimators=10......\n",
      "[CV 3/3; 22/27] END max_depth=None, min_samples_split=5, n_estimators=10;, score=0.981 total time=   1.5s\n",
      "[CV 1/3; 23/27] START max_depth=None, min_samples_split=5, n_estimators=20......\n",
      "[CV 1/3; 23/27] END max_depth=None, min_samples_split=5, n_estimators=20;, score=0.978 total time=   2.8s\n",
      "[CV 2/3; 23/27] START max_depth=None, min_samples_split=5, n_estimators=20......\n",
      "[CV 2/3; 23/27] END max_depth=None, min_samples_split=5, n_estimators=20;, score=0.978 total time=   2.8s\n",
      "[CV 3/3; 23/27] START max_depth=None, min_samples_split=5, n_estimators=20......\n",
      "[CV 3/3; 23/27] END max_depth=None, min_samples_split=5, n_estimators=20;, score=0.982 total time=   2.9s\n",
      "[CV 1/3; 24/27] START max_depth=None, min_samples_split=5, n_estimators=50......\n",
      "[CV 1/3; 24/27] END max_depth=None, min_samples_split=5, n_estimators=50;, score=0.979 total time=   6.9s\n",
      "[CV 2/3; 24/27] START max_depth=None, min_samples_split=5, n_estimators=50......\n",
      "[CV 2/3; 24/27] END max_depth=None, min_samples_split=5, n_estimators=50;, score=0.979 total time=   7.3s\n",
      "[CV 3/3; 24/27] START max_depth=None, min_samples_split=5, n_estimators=50......\n",
      "[CV 3/3; 24/27] END max_depth=None, min_samples_split=5, n_estimators=50;, score=0.982 total time=   7.8s\n",
      "[CV 1/3; 25/27] START max_depth=None, min_samples_split=10, n_estimators=10.....\n",
      "[CV 1/3; 25/27] END max_depth=None, min_samples_split=10, n_estimators=10;, score=0.977 total time=   1.5s\n",
      "[CV 2/3; 25/27] START max_depth=None, min_samples_split=10, n_estimators=10.....\n",
      "[CV 2/3; 25/27] END max_depth=None, min_samples_split=10, n_estimators=10;, score=0.976 total time=   1.5s\n",
      "[CV 3/3; 25/27] START max_depth=None, min_samples_split=10, n_estimators=10.....\n",
      "[CV 3/3; 25/27] END max_depth=None, min_samples_split=10, n_estimators=10;, score=0.980 total time=   1.6s\n",
      "[CV 1/3; 26/27] START max_depth=None, min_samples_split=10, n_estimators=20.....\n",
      "[CV 1/3; 26/27] END max_depth=None, min_samples_split=10, n_estimators=20;, score=0.977 total time=   2.9s\n",
      "[CV 2/3; 26/27] START max_depth=None, min_samples_split=10, n_estimators=20.....\n",
      "[CV 2/3; 26/27] END max_depth=None, min_samples_split=10, n_estimators=20;, score=0.977 total time=   2.9s\n",
      "[CV 3/3; 26/27] START max_depth=None, min_samples_split=10, n_estimators=20.....\n",
      "[CV 3/3; 26/27] END max_depth=None, min_samples_split=10, n_estimators=20;, score=0.980 total time=   2.9s\n",
      "[CV 1/3; 27/27] START max_depth=None, min_samples_split=10, n_estimators=50.....\n",
      "[CV 1/3; 27/27] END max_depth=None, min_samples_split=10, n_estimators=50;, score=0.977 total time=   6.9s\n",
      "[CV 2/3; 27/27] START max_depth=None, min_samples_split=10, n_estimators=50.....\n",
      "[CV 2/3; 27/27] END max_depth=None, min_samples_split=10, n_estimators=50;, score=0.977 total time=   7.1s\n",
      "[CV 3/3; 27/27] START max_depth=None, min_samples_split=10, n_estimators=50.....\n",
      "[CV 3/3; 27/27] END max_depth=None, min_samples_split=10, n_estimators=50;, score=0.981 total time=   7.4s\n"
     ]
    }
   ],
   "source": [
    "start = time.time()\n",
    "# Fit the grid search object to the training data\n",
    "grid_search_RF.fit(X_train_smote, y_train_smote)\n",
    "end = time.time()\n",
    "dt=end-start\n"
   ]
  },
  {
   "cell_type": "code",
   "execution_count": 78,
   "id": "83a24ae4",
   "metadata": {},
   "outputs": [
    {
     "name": "stdout",
     "output_type": "stream",
     "text": [
      "delta t = 249.18602085113525\n"
     ]
    }
   ],
   "source": [
    "print('delta t =', dt)"
   ]
  },
  {
   "cell_type": "code",
   "execution_count": 79,
   "id": "3258578a",
   "metadata": {},
   "outputs": [
    {
     "name": "stdout",
     "output_type": "stream",
     "text": [
      "Mean test score: 0.962 (+/-0.003) for {'max_depth': 5, 'min_samples_split': 2, 'n_estimators': 10}\n",
      "Mean test score: 0.963 (+/-0.002) for {'max_depth': 5, 'min_samples_split': 2, 'n_estimators': 20}\n",
      "Mean test score: 0.963 (+/-0.002) for {'max_depth': 5, 'min_samples_split': 2, 'n_estimators': 50}\n",
      "Mean test score: 0.962 (+/-0.002) for {'max_depth': 5, 'min_samples_split': 5, 'n_estimators': 10}\n",
      "Mean test score: 0.963 (+/-0.002) for {'max_depth': 5, 'min_samples_split': 5, 'n_estimators': 20}\n",
      "Mean test score: 0.963 (+/-0.002) for {'max_depth': 5, 'min_samples_split': 5, 'n_estimators': 50}\n",
      "Mean test score: 0.961 (+/-0.002) for {'max_depth': 5, 'min_samples_split': 10, 'n_estimators': 10}\n",
      "Mean test score: 0.963 (+/-0.002) for {'max_depth': 5, 'min_samples_split': 10, 'n_estimators': 20}\n",
      "Mean test score: 0.963 (+/-0.002) for {'max_depth': 5, 'min_samples_split': 10, 'n_estimators': 50}\n",
      "Mean test score: 0.973 (+/-0.002) for {'max_depth': 10, 'min_samples_split': 2, 'n_estimators': 10}\n",
      "Mean test score: 0.974 (+/-0.002) for {'max_depth': 10, 'min_samples_split': 2, 'n_estimators': 20}\n",
      "Mean test score: 0.974 (+/-0.002) for {'max_depth': 10, 'min_samples_split': 2, 'n_estimators': 50}\n",
      "Mean test score: 0.974 (+/-0.001) for {'max_depth': 10, 'min_samples_split': 5, 'n_estimators': 10}\n",
      "Mean test score: 0.974 (+/-0.001) for {'max_depth': 10, 'min_samples_split': 5, 'n_estimators': 20}\n",
      "Mean test score: 0.974 (+/-0.001) for {'max_depth': 10, 'min_samples_split': 5, 'n_estimators': 50}\n",
      "Mean test score: 0.974 (+/-0.002) for {'max_depth': 10, 'min_samples_split': 10, 'n_estimators': 10}\n",
      "Mean test score: 0.974 (+/-0.002) for {'max_depth': 10, 'min_samples_split': 10, 'n_estimators': 20}\n",
      "Mean test score: 0.974 (+/-0.001) for {'max_depth': 10, 'min_samples_split': 10, 'n_estimators': 50}\n",
      "Mean test score: 0.979 (+/-0.002) for {'max_depth': None, 'min_samples_split': 2, 'n_estimators': 10}\n",
      "Mean test score: 0.980 (+/-0.002) for {'max_depth': None, 'min_samples_split': 2, 'n_estimators': 20}\n",
      "Mean test score: 0.980 (+/-0.002) for {'max_depth': None, 'min_samples_split': 2, 'n_estimators': 50}\n",
      "Mean test score: 0.979 (+/-0.002) for {'max_depth': None, 'min_samples_split': 5, 'n_estimators': 10}\n",
      "Mean test score: 0.979 (+/-0.002) for {'max_depth': None, 'min_samples_split': 5, 'n_estimators': 20}\n",
      "Mean test score: 0.980 (+/-0.001) for {'max_depth': None, 'min_samples_split': 5, 'n_estimators': 50}\n",
      "Mean test score: 0.978 (+/-0.002) for {'max_depth': None, 'min_samples_split': 10, 'n_estimators': 10}\n",
      "Mean test score: 0.978 (+/-0.001) for {'max_depth': None, 'min_samples_split': 10, 'n_estimators': 20}\n",
      "Mean test score: 0.979 (+/-0.002) for {'max_depth': None, 'min_samples_split': 10, 'n_estimators': 50}\n"
     ]
    }
   ],
   "source": [
    "# Print results\n",
    "results = grid_search_RF.cv_results_\n",
    "for mean_score, std_score, params in zip(results['mean_test_score'], results['std_test_score'], results['params']):\n",
    "    print(f\"Mean test score: {mean_score:.3f} (+/-{std_score:.3f}) for {params}\")"
   ]
  },
  {
   "cell_type": "code",
   "execution_count": 80,
   "id": "7a542989",
   "metadata": {},
   "outputs": [
    {
     "name": "stdout",
     "output_type": "stream",
     "text": [
      "Best parameters:  {'max_depth': None, 'min_samples_split': 2, 'n_estimators': 50}\n",
      "Best score:  0.9803179409538229\n"
     ]
    }
   ],
   "source": [
    "# Print the best parameters and score\n",
    "print('Best parameters: ', grid_search_RF.best_params_)\n",
    "print('Best score: ', grid_search_RF.best_score_)\n",
    "# Access the best model\n",
    "best_model_RF = grid_search_RF.best_estimator_"
   ]
  },
  {
   "cell_type": "code",
   "execution_count": 91,
   "id": "2ffb017c",
   "metadata": {},
   "outputs": [],
   "source": [
    "best_model_RF = RandomForestClassifier(max_depth=None,min_samples_split=2,n_estimators=50)"
   ]
  },
  {
   "cell_type": "markdown",
   "id": "f3efd07a",
   "metadata": {},
   "source": [
    "### 2.c/ Train the best RF model on the whole training set"
   ]
  },
  {
   "cell_type": "code",
   "execution_count": 111,
   "id": "25a1541f",
   "metadata": {},
   "outputs": [
    {
     "data": {
      "text/plain": [
       "RandomForestClassifier(n_estimators=50)"
      ]
     },
     "execution_count": 111,
     "metadata": {},
     "output_type": "execute_result"
    }
   ],
   "source": [
    "# Train the best model on the entire dataset\n",
    "best_model_RF.fit(X_train_smote, y_train_smote)"
   ]
  },
  {
   "cell_type": "code",
   "execution_count": 112,
   "id": "62a8e140",
   "metadata": {},
   "outputs": [
    {
     "name": "stdout",
     "output_type": "stream",
     "text": [
      "Accuracy : 0.832\n"
     ]
    }
   ],
   "source": [
    "y_pred= best_model_RF.predict(X_test)\n",
    "score = best_model_RF.score(X_test, y_test)\n",
    "RF_score_ = np.mean(score)\n",
    "\n",
    "print('Accuracy : %.3f' % (RF_score_))"
   ]
  },
  {
   "cell_type": "code",
   "execution_count": 103,
   "id": "783fb8a7",
   "metadata": {},
   "outputs": [
    {
     "data": {
      "text/plain": [
       "0.3828"
      ]
     },
     "execution_count": 103,
     "metadata": {},
     "output_type": "execute_result"
    }
   ],
   "source": [
    "# Print the Accuracy\n",
    "y_pred_RF = best_model_RF.predict(X_test)\n",
    "accuracy_RF = accuracy_score(y_test, y_pred_RF)\n",
    "accuracy_RF"
   ]
  },
  {
   "cell_type": "code",
   "execution_count": 83,
   "id": "13002111",
   "metadata": {},
   "outputs": [
    {
     "name": "stdout",
     "output_type": "stream",
     "text": [
      "              precision    recall  f1-score   support\n",
      "\n",
      "           0       0.85      0.92      0.89     11889\n",
      "           1       0.98      0.60      0.74      4319\n",
      "           2       0.81      0.96      0.88      3792\n",
      "\n",
      "    accuracy                           0.86     20000\n",
      "   macro avg       0.88      0.83      0.84     20000\n",
      "weighted avg       0.87      0.86      0.85     20000\n",
      "\n"
     ]
    }
   ],
   "source": [
    "# Print the classification report\n",
    "print(classification_report(y_test, y_pred))"
   ]
  },
  {
   "cell_type": "markdown",
   "id": "643ee5b0",
   "metadata": {},
   "source": [
    "### 2.d/ Confusion matrix"
   ]
  },
  {
   "cell_type": "code",
   "execution_count": 168,
   "id": "81733edd",
   "metadata": {},
   "outputs": [
    {
     "name": "stderr",
     "output_type": "stream",
     "text": [
      "/Users/rafidbendimerad/opt/anaconda3/lib/python3.9/site-packages/yellowbrick/classifier/base.py:232: YellowbrickWarning: could not determine class_counts_ from previously fitted classifier\n",
      "  warnings.warn(\n"
     ]
    },
    {
     "data": {
      "image/png": "[encoded data removed]",
      "text/plain": [
       "<Figure size 576x396 with 1 Axes>"
      ]
     },
     "metadata": {},
     "output_type": "display_data"
    },
    {
     "data": {
      "text/plain": [
       "<AxesSubplot:title={'center':'RandomForestClassifier Confusion Matrix'}, xlabel='Predicted Class', ylabel='True Class'>"
      ]
     },
     "execution_count": 168,
     "metadata": {},
     "output_type": "execute_result"
    }
   ],
   "source": [
    "Classes = ['GALAXY','QSO','STAR']\n",
    "viz = ConfusionMatrix(best_model_RF,classes=Classes,cmap=\"Reds\",percent=True)\n",
    "viz.score(X_test, y_test)\n",
    "viz.show()"
   ]
  },
  {
   "cell_type": "markdown",
   "id": "1f1cc862",
   "metadata": {},
   "source": [
    "### 2.e/ Class Prediction Error"
   ]
  },
  {
   "cell_type": "code",
   "execution_count": 169,
   "id": "40d9b0bc",
   "metadata": {},
   "outputs": [
    {
     "data": {
      "image/png": "[encoded data removed]",
      "text/plain": [
       "<Figure size 576x396 with 1 Axes>"
      ]
     },
     "metadata": {},
     "output_type": "display_data"
    },
    {
     "data": {
      "text/plain": [
       "<AxesSubplot:title={'center':'Class Prediction Error for RandomForestClassifier'}, xlabel='actual class', ylabel='number of predicted class'>"
      ]
     },
     "execution_count": 169,
     "metadata": {},
     "output_type": "execute_result"
    }
   ],
   "source": [
    "visualizer = ClassPredictionError(best_model_RF, classes=Classes)\n",
    "set_palette('muted')\n",
    "\n",
    "visualizer.fit(X_train_smote, y_train_smote)        # Fit the training data to the visualizer\n",
    "visualizer.score(X_test, y_test)        # Evaluate the model on the test data\n",
    "visualizer.show()                       # Draw visualization"
   ]
  },
  {
   "cell_type": "markdown",
   "id": "baaf5a3d",
   "metadata": {},
   "source": [
    "### 2.f/ ROC curves"
   ]
  },
  {
   "cell_type": "code",
   "execution_count": 153,
   "id": "48d37852",
   "metadata": {},
   "outputs": [
    {
     "data": {
      "image/png": "[encoded data removed]",
      "text/plain": [
       "<Figure size 576x396 with 1 Axes>"
      ]
     },
     "metadata": {},
     "output_type": "display_data"
    },
    {
     "data": {
      "text/plain": [
       "<AxesSubplot:title={'center':'ROC Curves for RandomForestClassifier'}, xlabel='False Positive Rate', ylabel='True Positive Rate'>"
      ]
     },
     "execution_count": 153,
     "metadata": {},
     "output_type": "execute_result"
    }
   ],
   "source": [
    "visualizer = ROCAUC(best_model_RF, classes=Classes)\n",
    "set_palette('bold')\n",
    "\n",
    "visualizer.fit(X_train_smote, y_train_smote)        # Fit the training data to the visualizer\n",
    "visualizer.score(X_test, y_test)        # Evaluate the model on the test data\n",
    "visualizer.show()"
   ]
  },
  {
   "cell_type": "markdown",
   "id": "d34d0527",
   "metadata": {},
   "source": [
    "### 2.g/ importance plot"
   ]
  },
  {
   "cell_type": "code",
   "execution_count": 73,
   "id": "81d84c71",
   "metadata": {},
   "outputs": [],
   "source": [
    "from sklearn.inspection import permutation_importance"
   ]
  },
  {
   "cell_type": "code",
   "execution_count": 155,
   "id": "56f44595",
   "metadata": {},
   "outputs": [],
   "source": [
    "# Calculate feature importances\n",
    "importances = best_model_RF.feature_importances_\n",
    "# Sort feature importances in descending order\n",
    "indices = np.argsort(importances)[::-1]\n",
    "# Rearrange feature names so they match the sorted feature importances\n",
    "names = [list(df3.columns[1:-1])[i] for i in indices]"
   ]
  },
  {
   "cell_type": "code",
   "execution_count": 177,
   "id": "ca3a2fa2",
   "metadata": {},
   "outputs": [
    {
     "data": {
      "image/png": "[encoded data removed]",
      "text/plain": [
       "<Figure size 576x396 with 1 Axes>"
      ]
     },
     "metadata": {},
     "output_type": "display_data"
    }
   ],
   "source": [
    "# Barplot: Add bars\n",
    "plt.bar(range(X_train_smote.shape[1]), importances[indices])\n",
    "# Add feature names as x-axis labels\n",
    "plt.xticks(range(X_train_smote.shape[1]), names, rotation=20, fontsize = 14)\n",
    "plt.yticks(fontsize = 14)\n",
    "# Create plot title\n",
    "plt.title(\"Feature Importance\",fontdict={'fontsize': 18})\n",
    "# Show plot\n",
    "plt.show()"
   ]
  },
  {
   "cell_type": "code",
   "execution_count": 181,
   "id": "05520554",
   "metadata": {},
   "outputs": [
    {
     "data": {
      "text/plain": [
       "0.9591289677410669"
      ]
     },
     "execution_count": 181,
     "metadata": {},
     "output_type": "execute_result"
    }
   ],
   "source": [
    "X_train_smote[:,0].std()"
   ]
  },
  {
   "cell_type": "markdown",
   "id": "0007b3f4",
   "metadata": {},
   "source": [
    "### 2.f/ Adding noise\n"
   ]
  },
  {
   "cell_type": "code",
   "execution_count": 259,
   "id": "6955d4eb",
   "metadata": {},
   "outputs": [],
   "source": [
    "X_train_smote = scaler.fit_transform(X_train_smote)\n",
    "X_test = scaler.fit_transform(X_test)\n"
   ]
  },
  {
   "cell_type": "code",
   "execution_count": 123,
   "id": "7f22f0b9",
   "metadata": {},
   "outputs": [
    {
     "name": "stdout",
     "output_type": "stream",
     "text": [
      "step = 1 / 20\n",
      "step = 2 / 20\n",
      "step = 3 / 20\n",
      "step = 4 / 20\n",
      "step = 5 / 20\n",
      "step = 6 / 20\n",
      "step = 7 / 20\n",
      "step = 8 / 20\n",
      "step = 9 / 20\n",
      "step = 10 / 20\n",
      "step = 11 / 20\n",
      "step = 12 / 20\n",
      "step = 13 / 20\n",
      "step = 14 / 20\n",
      "step = 15 / 20\n",
      "step = 16 / 20\n",
      "step = 17 / 20\n",
      "step = 18 / 20\n",
      "step = 19 / 20\n",
      "step = 20 / 20\n"
     ]
    }
   ],
   "source": [
    "m=21\n",
    "idx=0\n",
    "\n",
    "store_score=np.zeros([m-1,1])\n",
    "snr_vec=np.zeros([m-1,1])\n",
    "\n",
    "for SNR in np.arange(1,m):\n",
    "\n",
    "    # Calculate the power of the signal\n",
    "    Ps_0=np.mean(X_train_smote[:,0]**2)\n",
    "    Ps_1=np.mean(X_train_smote[:,1]**2)\n",
    "    Ps_2=np.mean(X_train_smote[:,2]**2)\n",
    "    Ps_3=np.mean(X_train_smote[:,3]**2)\n",
    "\n",
    "    # Calculate the power of the noise\n",
    "    Pn_0 = Ps_0 / SNR\n",
    "    Pn_1 = Ps_1 / SNR\n",
    "    Pn_2 = Ps_2 / SNR\n",
    "    Pn_3 = Ps_3 / SNR\n",
    "\n",
    "    # Calculate he standard deviation of the noise\n",
    "    noise_std_0 = np.sqrt(Pn_0)\n",
    "    noise_std_1 = np.sqrt(Pn_1)\n",
    "    noise_std_2 = np.sqrt(Pn_2)\n",
    "    noise_std_3 = np.sqrt(Pn_3)\n",
    "\n",
    "    # generate the noise\n",
    "    noise_0 = np.random.normal(0, noise_std_0, np.shape(X_train_smote)[0])\n",
    "    noise_1 = np.random.normal(0, noise_std_1, np.shape(X_train_smote)[0])\n",
    "    noise_2 = np.random.normal(0, noise_std_2, np.shape(X_train_smote)[0])\n",
    "    noise_3 = np.random.normal(0, noise_std_3, np.shape(X_train_smote)[0])\n",
    "\n",
    "\n",
    "    # Add noise to the training data\n",
    "\n",
    "    X_train_smote_noise= X_train_smote.copy()\n",
    "    X_train_smote_noise[:,0]+=noise_0\n",
    "    X_train_smote_noise[:,1]+=noise_1\n",
    "    X_train_smote_noise[:,2]+=noise_2\n",
    "    X_train_smote_noise[:,3]+=noise_3\n",
    "\n",
    "\n",
    "    # Add noise to the test data\n",
    "    X_test_noise=X_test.copy()\n",
    "    X_test_noise[:,0]+=np.random.normal(0, noise_std_0, np.shape(X_test_noise)[0])\n",
    "    X_test_noise[:,1]+=np.random.normal(0, noise_std_1, np.shape(X_test_noise)[0])\n",
    "    X_test_noise[:,2]+=np.random.normal(0, noise_std_2, np.shape(X_test_noise)[0])\n",
    "    X_test_noise[:,3]+=np.random.normal(0, noise_std_3, np.shape(X_test_noise)[0])\n",
    "    \n",
    "    # Train our best RF model on the noisy data\n",
    "    best_model_RF.fit(X_train_smote_noise, y_train_smote)\n",
    "    \n",
    "    y_pred= best_model_RF.predict(X_test_noise)\n",
    "    score = best_model_RF.score(X_test_noise, y_test)\n",
    "    RF_score_ = np.mean(score)\n",
    "    \n",
    "    \n",
    "    snr_vec[idx]=SNR\n",
    "    store_score[idx]= RF_score_\n",
    "    idx+=1\n",
    "    print('step =',idx,'/',m-1)\n",
    "    \n"
   ]
  },
  {
   "cell_type": "code",
   "execution_count": 149,
   "id": "064cef67",
   "metadata": {},
   "outputs": [
    {
     "data": {
      "text/plain": [
       "(array([0.5 , 0.55, 0.6 , 0.65, 0.7 , 0.75, 0.8 ]),\n",
       " [Text(0, 0, ''),\n",
       "  Text(0, 0, ''),\n",
       "  Text(0, 0, ''),\n",
       "  Text(0, 0, ''),\n",
       "  Text(0, 0, ''),\n",
       "  Text(0, 0, ''),\n",
       "  Text(0, 0, '')])"
      ]
     },
     "execution_count": 149,
     "metadata": {},
     "output_type": "execute_result"
    },
    {
     "data": {
      "image/png": "[encoded data removed]",
      "text/plain": [
       "<Figure size 576x396 with 1 Axes>"
      ]
     },
     "metadata": {},
     "output_type": "display_data"
    }
   ],
   "source": [
    "plt.plot(snr_vec,store_score,marker='o',markerfacecolor=\"b\",color='r')\n",
    "plt.xlabel('SNR',fontsize = 18)\n",
    "plt.ylabel('Accuracy',fontsize = 18)\n",
    "plt.xticks(range(21),fontsize = 14)\n",
    "plt.yticks(fontsize = 14)"
   ]
  },
  {
   "cell_type": "code",
   "execution_count": 145,
   "id": "0df0b8b6",
   "metadata": {},
   "outputs": [
    {
     "data": {
      "text/plain": [
       "array([50, 60, 70, 80])"
      ]
     },
     "execution_count": 145,
     "metadata": {},
     "output_type": "execute_result"
    }
   ],
   "source": []
  },
  {
   "cell_type": "code",
   "execution_count": null,
   "id": "0d63ca78",
   "metadata": {},
   "outputs": [],
   "source": []
  }
 ],
 "metadata": {
  "kernelspec": {
   "display_name": "Python 3 (ipykernel)",
   "language": "python",
   "name": "python3"
  },
  "language_info": {
   "codemirror_mode": {
    "name": "ipython",
    "version": 3
   },
   "file_extension": ".py",
   "mimetype": "text/x-python",
   "name": "python",
   "nbconvert_exporter": "python",
   "pygments_lexer": "ipython3",
   "version": "3.9.12"
  }
 },
 "nbformat": 4,
 "nbformat_minor": 5
}
